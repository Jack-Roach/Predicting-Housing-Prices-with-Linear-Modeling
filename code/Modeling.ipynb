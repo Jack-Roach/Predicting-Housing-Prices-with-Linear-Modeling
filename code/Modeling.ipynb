{
 "cells": [
  {
   "cell_type": "markdown",
   "metadata": {},
   "source": [
    "# Adding Interaction Columns and Modeling"
   ]
  },
  {
   "cell_type": "markdown",
   "metadata": {},
   "source": [
    "## Imports"
   ]
  },
  {
   "cell_type": "code",
   "execution_count": 1,
   "metadata": {},
   "outputs": [],
   "source": [
    "#General Libraries\n",
    "import numpy as np\n",
    "import pandas as pd\n",
    "import matplotlib.pyplot as plt\n",
    "import seaborn as sns\n",
    "\n",
    "#Sklearn\n",
    "from sklearn.linear_model import LinearRegression, LogisticRegression, LassoCV, Lasso, Ridge, RidgeCV\n",
    "from sklearn.model_selection import train_test_split, cross_val_score, GridSearchCV\n",
    "from sklearn.preprocessing import OneHotEncoder, StandardScaler, add_dummy_feature, PolynomialFeatures\n",
    "from sklearn.metrics import r2_score, mean_squared_error\n",
    "from sklearn.pipeline import make_pipeline, Pipeline\n",
    "from scipy.stats import norm\n",
    "from sklearn.compose import make_column_transformer, make_column_selector\n",
    "from sklearn.impute import SimpleImputer\n",
    "\n",
    "#Hiding Pink Warnings\n",
    "import sys\n",
    "if not sys.warnoptions:\n",
    "    import warnings\n",
    "    warnings.simplefilter(\"ignore\")"
   ]
  },
  {
   "cell_type": "markdown",
   "metadata": {},
   "source": [
    "### Displays all columns that have missing values and the number of missing values they have"
   ]
  },
  {
   "cell_type": "code",
   "execution_count": 2,
   "metadata": {},
   "outputs": [],
   "source": [
    "def display_null(df):\n",
    "    #displays the columns of a data frame with null values\n",
    "    for n in df.columns:\n",
    "        if df[n].isnull().sum() > 0:\n",
    "            print(f'{n}: {df[n].isnull().sum()}')\n",
    "    pass"
   ]
  },
  {
   "cell_type": "markdown",
   "metadata": {},
   "source": [
    "## Read in data from cleaned data files"
   ]
  },
  {
   "cell_type": "code",
   "execution_count": 3,
   "metadata": {},
   "outputs": [],
   "source": [
    "train = pd.read_csv(\"../datasets/train_cleaned.csv\")\n",
    "test = pd.read_csv(\"../datasets/test_cleaned.csv\")"
   ]
  },
  {
   "cell_type": "code",
   "execution_count": 4,
   "metadata": {},
   "outputs": [
    {
     "name": "stdout",
     "output_type": "stream",
     "text": [
      "Garage Yr Blt: 114\n",
      "Garage Age: 114\n",
      "Garage Yr Blt: 45\n",
      "Garage Age: 45\n"
     ]
    },
    {
     "data": {
      "text/plain": [
       "(None, None)"
      ]
     },
     "execution_count": 4,
     "metadata": {},
     "output_type": "execute_result"
    }
   ],
   "source": [
    "display_null(train),display_null(test)"
   ]
  },
  {
   "cell_type": "markdown",
   "metadata": {},
   "source": [
    "## Dropping Useless Columns"
   ]
  },
  {
   "cell_type": "code",
   "execution_count": 5,
   "metadata": {},
   "outputs": [],
   "source": [
    "train.drop(columns = ['Unnamed: 0','Id', 'PID'],inplace=True)"
   ]
  },
  {
   "cell_type": "code",
   "execution_count": 6,
   "metadata": {},
   "outputs": [
    {
     "data": {
      "text/plain": [
       "228"
      ]
     },
     "execution_count": 6,
     "metadata": {},
     "output_type": "execute_result"
    }
   ],
   "source": [
    "train.isnull().sum().sum()"
   ]
  },
  {
   "cell_type": "markdown",
   "metadata": {},
   "source": [
    "## Interaction Variables"
   ]
  },
  {
   "cell_type": "markdown",
   "metadata": {},
   "source": [
    "### Creating a binary column to indicate whether a house was built before or after the year 2000"
   ]
  },
  {
   "cell_type": "code",
   "execution_count": 7,
   "metadata": {},
   "outputs": [
    {
     "data": {
      "text/plain": [
       "0    670\n",
       "1    208\n",
       "Name: after2000, dtype: int64"
      ]
     },
     "execution_count": 7,
     "metadata": {},
     "output_type": "execute_result"
    }
   ],
   "source": [
    "#Train File\n",
    "train['Age'] = train['Yr Sold'] - train['Year Built']\n",
    "train['SalePrice'][train['Year Built']>2000].count()\n",
    "train['after2000'] = (train['Year Built']>2000)\n",
    "train['after2000'] = train['after2000'].map({True:1,False:0})\n",
    "train['after2000'].value_counts()\n",
    "#Test File\n",
    "test['Age'] = test['Yr Sold'] - test['Year Built']\n",
    "test['after2000'] = (test['Year Built']>2000)\n",
    "test['after2000'] = test['after2000'].map({True:1,False:0})\n",
    "test['after2000'].value_counts()"
   ]
  },
  {
   "cell_type": "markdown",
   "metadata": {},
   "source": [
    "### Creating a binary column to indicate whether a house has a garage or not"
   ]
  },
  {
   "cell_type": "code",
   "execution_count": 8,
   "metadata": {},
   "outputs": [],
   "source": [
    "train['Has Garage'] = (train['Garage Yr Blt']/train['Garage Yr Blt']).fillna(0)\n",
    "test['Has Garage'] = (test['Garage Yr Blt']/test['Garage Yr Blt']).fillna(0)"
   ]
  },
  {
   "cell_type": "markdown",
   "metadata": {},
   "source": [
    "## Modeling"
   ]
  },
  {
   "cell_type": "markdown",
   "metadata": {},
   "source": [
    "### Display Score Function\n",
    "#### Displays a variety of scores to evaluate the accuracy of the model in predicting Sale Price of houses"
   ]
  },
  {
   "cell_type": "code",
   "execution_count": 9,
   "metadata": {},
   "outputs": [],
   "source": [
    "def model_scores(model,X_train,X_test,y_train,y_test):\n",
    "    print(\"R2 Accuracy Score for Training Data:\", round(model.score(X_train,y_train),5))\n",
    "    print(\"R2 Accuracy Score for Testing Data:\", round(model.score(X_test,y_test),5))\n",
    "    print(\"R2 Score of Training Data (calculated with r2_score()): \",round(r2_score(y_train,model.predict(X_train)),5))\n",
    "    print(\"R2 Score of Testing Data (calculated with r2_score()): \",round(r2_score(y_test,model.predict(X_test)),5))\n",
    "    print(\"Root Mean Squared Error of Training Data:\", round(mean_squared_error(y_train, model.predict(X_train), squared=False),5))\n",
    "    print(\"Root Mean Squared Error of Testing Data:\", round(mean_squared_error(y_test, model.predict(X_test), squared=False),5))\n",
    "    pass"
   ]
  },
  {
   "cell_type": "markdown",
   "metadata": {},
   "source": [
    "### Initial Model - Only using Property size, Living space, and overall quality of the house"
   ]
  },
  {
   "cell_type": "code",
   "execution_count": 10,
   "metadata": {},
   "outputs": [],
   "source": [
    "X = train[['Overall Qual','Lot Area', 'Gr Liv Area' ]]\n",
    "y = train['SalePrice']\n",
    "\n",
    "X_train, X_test, y_train, y_test = train_test_split(X, y, random_state=42)"
   ]
  },
  {
   "cell_type": "code",
   "execution_count": 11,
   "metadata": {},
   "outputs": [],
   "source": [
    "ss = StandardScaler()\n",
    "X_train_scaled = pd.DataFrame(ss.fit_transform(X_train), columns=ss.get_feature_names_out())\n",
    "X_test_scaled =  pd.DataFrame(ss.transform(X_test), columns=ss.get_feature_names_out())"
   ]
  },
  {
   "cell_type": "code",
   "execution_count": 12,
   "metadata": {},
   "outputs": [
    {
     "data": {
      "text/plain": [
       "LinearRegression()"
      ]
     },
     "execution_count": 12,
     "metadata": {},
     "output_type": "execute_result"
    }
   ],
   "source": [
    "base_model = LinearRegression()\n",
    "base_model.fit(X_train_scaled, y_train)"
   ]
  },
  {
   "cell_type": "markdown",
   "metadata": {},
   "source": [
    "### Score of initial model"
   ]
  },
  {
   "cell_type": "markdown",
   "metadata": {},
   "source": [
    "accounts for 75.58% of variance in the testing data"
   ]
  },
  {
   "cell_type": "code",
   "execution_count": 13,
   "metadata": {},
   "outputs": [
    {
     "name": "stdout",
     "output_type": "stream",
     "text": [
      "R2 Accuracy Score for Training Data: 0.78327\n",
      "R2 Accuracy Score for Testing Data: 0.7558\n",
      "R2 Score of Training Data (calculated with r2_score()):  0.78327\n",
      "R2 Score of Testing Data (calculated with r2_score()):  0.7558\n",
      "Root Mean Squared Error of Training Data: 36915.39033\n",
      "Root Mean Squared Error of Testing Data: 39034.16175\n"
     ]
    }
   ],
   "source": [
    "model_scores(base_model,X_train_scaled,X_test_scaled,y_train,y_test)"
   ]
  },
  {
   "cell_type": "markdown",
   "metadata": {},
   "source": [
    "#### Given the scores for a basic model, our goal for the final model is to have an accuracy score (R2) higher than 78% and a RMSE lower than 37,000"
   ]
  },
  {
   "cell_type": "markdown",
   "metadata": {},
   "source": [
    "#### Getting all possible numerical features from the data"
   ]
  },
  {
   "cell_type": "code",
   "execution_count": 14,
   "metadata": {},
   "outputs": [
    {
     "data": {
      "text/plain": [
       "53"
      ]
     },
     "execution_count": 14,
     "metadata": {},
     "output_type": "execute_result"
    }
   ],
   "source": [
    "num_features = [n for n in train._get_numeric_data().columns if n != 'SalePrice']\n",
    "len(num_features)"
   ]
  },
  {
   "cell_type": "markdown",
   "metadata": {},
   "source": [
    "#### Getting all possible categorical features from the data"
   ]
  },
  {
   "cell_type": "code",
   "execution_count": 15,
   "metadata": {},
   "outputs": [
    {
     "data": {
      "text/plain": [
       "29"
      ]
     },
     "execution_count": 15,
     "metadata": {},
     "output_type": "execute_result"
    }
   ],
   "source": [
    "cat_features = [n for n in train.columns if n not in num_features and n != 'SalePrice']\n",
    "len(cat_features)"
   ]
  },
  {
   "cell_type": "markdown",
   "metadata": {},
   "source": [
    "#### Removing Garage Age and Yr Blt because they contain nulls"
   ]
  },
  {
   "cell_type": "code",
   "execution_count": 16,
   "metadata": {},
   "outputs": [
    {
     "data": {
      "text/plain": [
       "51"
      ]
     },
     "execution_count": 16,
     "metadata": {},
     "output_type": "execute_result"
    }
   ],
   "source": [
    "num_features.remove('Garage Age')\n",
    "num_features.remove('Garage Yr Blt')\n",
    "len(num_features)"
   ]
  },
  {
   "cell_type": "markdown",
   "metadata": {},
   "source": [
    "### Chosen Features for Models"
   ]
  },
  {
   "cell_type": "code",
   "execution_count": 17,
   "metadata": {},
   "outputs": [],
   "source": [
    "#First model, hand picked numerical features\n",
    "features1 = ['Overall Qual','Overall Cond','Gr Liv Area','Kitchen Qual','Lot Area','Central Air',\n",
    "             'Exter Qual','Garage Cars','Bedroom AbvGr','Year Built','after2000']\n",
    "#Second model, only numerical features with correlations to SalePrice higher than 0.5, with 'Has Garage Column'\n",
    "features2 = ['Mas Vnr Area',\n",
    "             'TotRms AbvGrd',\n",
    "             'after2000',\n",
    "             'Full Bath',\n",
    "             'Fireplace Qu',\n",
    "             'Year Remod/Add',\n",
    "             'Year Built',\n",
    "             'Bsmt Qual',\n",
    "             '1st Flr SF',\n",
    "             'Garage Cars',\n",
    "             'Garage Area',\n",
    "             'Total Bsmt SF',\n",
    "             'Kitchen Qual',\n",
    "             'Exter Qual',\n",
    "             'Gr Liv Area',\n",
    "             'Overall Qual',\n",
    "             'Has Garage'\n",
    "            ]\n",
    "cat_features2 = ['Neighborhood','Alley','']  \n",
    "model3 = features2+cat_features2\n",
    "everything = num_features + cat_features"
   ]
  },
  {
   "cell_type": "code",
   "execution_count": 18,
   "metadata": {},
   "outputs": [],
   "source": [
    "X = train[everything]\n",
    "y = train['SalePrice']\n",
    "X_train, X_test, y_train, y_test = train_test_split(X, y, random_state = 42)"
   ]
  },
  {
   "cell_type": "markdown",
   "metadata": {},
   "source": [
    "#### Transformer method for Lasso and Ridge models"
   ]
  },
  {
   "cell_type": "code",
   "execution_count": 19,
   "metadata": {},
   "outputs": [],
   "source": [
    "\n",
    "cte1 = make_column_transformer(\n",
    "    (SimpleImputer(strategy='mean'), make_column_selector(dtype_include=float)),\n",
    "    (OneHotEncoder(drop='if_binary', handle_unknown='ignore', sparse=False), make_column_selector(dtype_include=object)),\n",
    "    remainder='passthrough',\n",
    "    verbose_feature_names_out=False,\n",
    ")"
   ]
  },
  {
   "cell_type": "markdown",
   "metadata": {},
   "source": [
    "#### Pipe for processing Lasso models"
   ]
  },
  {
   "cell_type": "code",
   "execution_count": 20,
   "metadata": {},
   "outputs": [],
   "source": [
    "pipe1 = Pipeline([\n",
    "    ('cte1', cte1),\n",
    "    ('ss', StandardScaler()),\n",
    "    ('lasso', Lasso())\n",
    "\n",
    "])"
   ]
  },
  {
   "cell_type": "markdown",
   "metadata": {},
   "source": [
    "#### Pipe for processing Ridge models"
   ]
  },
  {
   "cell_type": "code",
   "execution_count": 21,
   "metadata": {},
   "outputs": [],
   "source": [
    "pipe2 = Pipeline([\n",
    "    ('cte1', cte1),\n",
    "    ('ss', StandardScaler()),\n",
    "    ('ridge', Ridge())\n",
    "\n",
    "])"
   ]
  },
  {
   "cell_type": "markdown",
   "metadata": {},
   "source": [
    "#### Lasso Parameters for Cross Value Grid Search"
   ]
  },
  {
   "cell_type": "code",
   "execution_count": 22,
   "metadata": {},
   "outputs": [],
   "source": [
    "pipe1.get_params();\n",
    "params1 = {'lasso__alpha': np.arange(0.001, 50, 5),}\n",
    "gs1 = GridSearchCV(pipe1, params1, n_jobs=-1)\n",
    "\n",
    "gs1.fit(X_train, y_train);"
   ]
  },
  {
   "cell_type": "markdown",
   "metadata": {},
   "source": [
    "#### Ridge Parameters for Cross Value Grid Search"
   ]
  },
  {
   "cell_type": "code",
   "execution_count": 23,
   "metadata": {},
   "outputs": [],
   "source": [
    "pipe2.get_params().keys();\n",
    "params2 = {'ridge__alpha': np.arange(0.001, 50, 5),}\n",
    "gs2 = GridSearchCV(pipe2, params2, n_jobs=-1)\n",
    "\n",
    "gs2.fit(X_train, y_train);"
   ]
  },
  {
   "cell_type": "markdown",
   "metadata": {},
   "source": [
    "### Lasso CV search model scores"
   ]
  },
  {
   "cell_type": "code",
   "execution_count": 24,
   "metadata": {},
   "outputs": [
    {
     "name": "stdout",
     "output_type": "stream",
     "text": [
      "R2 Accuracy Score for Training Data: 0.93637\n",
      "R2 Accuracy Score for Testing Data: 0.90638\n",
      "R2 Score of Training Data (calculated with r2_score()):  0.93637\n",
      "R2 Score of Testing Data (calculated with r2_score()):  0.90638\n",
      "Root Mean Squared Error of Training Data: 20002.85091\n",
      "Root Mean Squared Error of Testing Data: 24168.20534\n"
     ]
    }
   ],
   "source": [
    "model_scores(gs1,X_train,X_test,y_train,y_test)"
   ]
  },
  {
   "cell_type": "markdown",
   "metadata": {},
   "source": [
    "### Lasso Model Submission"
   ]
  },
  {
   "cell_type": "code",
   "execution_count": 25,
   "metadata": {},
   "outputs": [],
   "source": [
    "lasso_preds = gs1.predict(test[everything])\n",
    "test['SalePrice'] = lasso_preds\n",
    "submission2 = test[['Id','SalePrice']]\n",
    "submission2.shape\n",
    "\n",
    "submission2.to_csv('../datasets/submission2.csv',index=False)"
   ]
  },
  {
   "cell_type": "markdown",
   "metadata": {},
   "source": [
    "### Ridge CV search model scores "
   ]
  },
  {
   "cell_type": "code",
   "execution_count": 26,
   "metadata": {},
   "outputs": [
    {
     "name": "stdout",
     "output_type": "stream",
     "text": [
      "R2 Accuracy Score for Training Data: 0.93609\n",
      "R2 Accuracy Score for Testing Data: 0.90557\n",
      "R2 Score of Training Data (calculated with r2_score()):  0.93609\n",
      "R2 Score of Testing Data (calculated with r2_score()):  0.90557\n",
      "Root Mean Squared Error of Training Data: 20046.4613\n",
      "Root Mean Squared Error of Testing Data: 24273.51097\n"
     ]
    }
   ],
   "source": [
    "model_scores(gs2,X_train,X_test,y_train,y_test)"
   ]
  },
  {
   "cell_type": "markdown",
   "metadata": {},
   "source": [
    "#### Our CV transformed Ridge and Lasso models are our strongest models with an R2 Accuracy score of 0.90557 on our test data. This means that these models account for 90.56% of the variance in the Sale Price data. There is ever so slight overfitting in this data and slightly high variance, because our models performs noticeably (but not significantly) higher on the training data than it does on the test data."
   ]
  },
  {
   "cell_type": "markdown",
   "metadata": {},
   "source": [
    "#### Number of Features in encoded Lasso and Ridge model"
   ]
  },
  {
   "cell_type": "code",
   "execution_count": 27,
   "metadata": {},
   "outputs": [
    {
     "data": {
      "text/plain": [
       "244"
      ]
     },
     "execution_count": 27,
     "metadata": {},
     "output_type": "execute_result"
    }
   ],
   "source": [
    "len(gs1.best_estimator_.named_steps.ss.get_feature_names_out())"
   ]
  },
  {
   "cell_type": "markdown",
   "metadata": {},
   "source": [
    "#### Number of Coefficients in encoded Lasso and Ridge model"
   ]
  },
  {
   "cell_type": "code",
   "execution_count": 28,
   "metadata": {},
   "outputs": [
    {
     "data": {
      "text/plain": [
       "200"
      ]
     },
     "execution_count": 28,
     "metadata": {},
     "output_type": "execute_result"
    }
   ],
   "source": [
    "len([coef for coef in gs1.best_estimator_.named_steps.lasso.coef_ if coef])"
   ]
  },
  {
   "cell_type": "markdown",
   "metadata": {},
   "source": [
    "## Numerical Linear, Lasso, and Ridge Models"
   ]
  },
  {
   "cell_type": "markdown",
   "metadata": {},
   "source": [
    "### Linear Regression Model using features in features1 list"
   ]
  },
  {
   "cell_type": "code",
   "execution_count": 29,
   "metadata": {},
   "outputs": [
    {
     "name": "stdout",
     "output_type": "stream",
     "text": [
      "R2 Accuracy Score for Training Data: 0.84088\n",
      "R2 Accuracy Score for Testing Data: 0.81892\n",
      "R2 Score of Training Data (calculated with r2_score()):  0.84088\n",
      "R2 Score of Testing Data (calculated with r2_score()):  0.81892\n",
      "Root Mean Squared Error of Training Data: 31630.68481\n",
      "Root Mean Squared Error of Testing Data: 33613.19182\n"
     ]
    }
   ],
   "source": [
    "X = train[features1]\n",
    "y = train['SalePrice']\n",
    "\n",
    "X_train, X_test, y_train, y_test = train_test_split(X, y, random_state = 42)\n",
    "\n",
    "lr = LinearRegression()\n",
    "lr.fit(X_train,y_train)\n",
    "model_scores(lr,X_train, X_test, y_train, y_test)"
   ]
  },
  {
   "cell_type": "code",
   "execution_count": 30,
   "metadata": {},
   "outputs": [],
   "source": [
    "X = train[features2]\n",
    "lr = LinearRegression()\n",
    "lasso = Lasso()\n",
    "ridge = Ridge()\n",
    "X_train, X_test, y_train, y_test = train_test_split(X, y, random_state = 42)"
   ]
  },
  {
   "cell_type": "code",
   "execution_count": 31,
   "metadata": {},
   "outputs": [
    {
     "data": {
      "text/plain": [
       "Ridge()"
      ]
     },
     "execution_count": 31,
     "metadata": {},
     "output_type": "execute_result"
    }
   ],
   "source": [
    "lr.fit(X_train,y_train)\n",
    "lasso.fit(X_train,y_train)\n",
    "ridge.fit(X_train,y_train)"
   ]
  },
  {
   "cell_type": "markdown",
   "metadata": {},
   "source": [
    "### Accuracy Score for numerical feature Linear Model"
   ]
  },
  {
   "cell_type": "code",
   "execution_count": 32,
   "metadata": {},
   "outputs": [
    {
     "name": "stdout",
     "output_type": "stream",
     "text": [
      "R2 Accuracy Score for Training Data: 0.86059\n",
      "R2 Accuracy Score for Testing Data: 0.85333\n",
      "R2 Score of Training Data (calculated with r2_score()):  0.86059\n",
      "R2 Score of Testing Data (calculated with r2_score()):  0.85333\n",
      "Root Mean Squared Error of Training Data: 29606.64454\n",
      "Root Mean Squared Error of Testing Data: 30251.36753\n"
     ]
    }
   ],
   "source": [
    "model_scores(lr,X_train, X_test, y_train, y_test)"
   ]
  },
  {
   "cell_type": "markdown",
   "metadata": {},
   "source": [
    "### Accuracy Score for numerical feature Lasso Model"
   ]
  },
  {
   "cell_type": "code",
   "execution_count": 33,
   "metadata": {},
   "outputs": [
    {
     "name": "stdout",
     "output_type": "stream",
     "text": [
      "R2 Accuracy Score for Training Data: 0.86059\n",
      "R2 Accuracy Score for Testing Data: 0.85333\n",
      "R2 Score of Training Data (calculated with r2_score()):  0.86059\n",
      "R2 Score of Testing Data (calculated with r2_score()):  0.85333\n",
      "Root Mean Squared Error of Training Data: 29606.64542\n",
      "Root Mean Squared Error of Testing Data: 30251.08712\n"
     ]
    }
   ],
   "source": [
    "model_scores(lasso,X_train, X_test, y_train, y_test)"
   ]
  },
  {
   "cell_type": "markdown",
   "metadata": {},
   "source": [
    "### Accuracy Scores for numerical feature Ridge Model"
   ]
  },
  {
   "cell_type": "code",
   "execution_count": 34,
   "metadata": {},
   "outputs": [
    {
     "name": "stdout",
     "output_type": "stream",
     "text": [
      "R2 Accuracy Score for Training Data: 0.86059\n",
      "R2 Accuracy Score for Testing Data: 0.85333\n",
      "R2 Score of Training Data (calculated with r2_score()):  0.86059\n",
      "R2 Score of Testing Data (calculated with r2_score()):  0.85333\n",
      "Root Mean Squared Error of Training Data: 29606.6933\n",
      "Root Mean Squared Error of Testing Data: 30251.48124\n"
     ]
    }
   ],
   "source": [
    "model_scores(ridge,X_train, X_test, y_train, y_test)"
   ]
  },
  {
   "cell_type": "code",
   "execution_count": 35,
   "metadata": {},
   "outputs": [],
   "source": [
    "features = ['Overall Qual',\n",
    "           'Overall Cond',\n",
    "           'Gr Liv Area',\n",
    "           'Kitchen Qual',\n",
    "           'Lot Area',\n",
    "           'Central Air',\n",
    "           'Exter Qual',\n",
    "           'Garage Cars',\n",
    "           'Bedroom AbvGr',\n",
    "           'Year Built',\n",
    "           'after2000']"
   ]
  },
  {
   "cell_type": "markdown",
   "metadata": {},
   "source": [
    "### Linear Regression Model First Attempt"
   ]
  },
  {
   "cell_type": "code",
   "execution_count": 36,
   "metadata": {},
   "outputs": [
    {
     "name": "stdout",
     "output_type": "stream",
     "text": [
      "R2 Accuracy Score for Training Data: 0.84088\n",
      "R2 Accuracy Score for Testing Data: 0.81892\n",
      "R2 Score of Training Data (calculated with r2_score()):  0.84088\n",
      "R2 Score of Testing Data (calculated with r2_score()):  0.81892\n",
      "Root Mean Squared Error of Training Data: 31630.68481\n",
      "Root Mean Squared Error of Testing Data: 33613.19182\n"
     ]
    }
   ],
   "source": [
    "X = train[features]\n",
    "y = train['SalePrice']\n",
    "X_train,X_test,y_train,y_test = train_test_split(X,y,random_state=42)\n",
    "lr = LinearRegression()\n",
    "lr.fit(X_train,y_train)\n",
    "model_scores(lr,X_train,X_test,y_train,y_test)"
   ]
  },
  {
   "cell_type": "markdown",
   "metadata": {},
   "source": [
    "### Linear Regression Model First Submission"
   ]
  },
  {
   "cell_type": "code",
   "execution_count": 37,
   "metadata": {},
   "outputs": [],
   "source": [
    "lr1_preds = lr.predict(test[features])\n",
    "test['SalePrice'] = lr1_preds\n",
    "submission1 = test[['Id','SalePrice']]\n",
    "submission1.shape\n",
    "\n",
    "submission1.to_csv('../datasets/submission1.csv',index=False)"
   ]
  },
  {
   "cell_type": "markdown",
   "metadata": {},
   "source": [
    "## Creating our Production Model - Addressing the Problem Statement"
   ]
  },
  {
   "cell_type": "markdown",
   "metadata": {},
   "source": [
    "#### Hand Picked Categorical Features\n",
    "#### Commented out variables that had no effect on the model when removed"
   ]
  },
  {
   "cell_type": "code",
   "execution_count": 38,
   "metadata": {},
   "outputs": [],
   "source": [
    "model_cat_features = ['MS Zoning',\n",
    " #'Street',\n",
    " 'Lot Shape',\n",
    " #'Land Contour',\n",
    " 'Neighborhood',\n",
    " 'Condition 1',\n",
    " 'Bldg Type',\n",
    " 'House Style',\n",
    " 'Roof Style',\n",
    " 'Exterior 1st',\n",
    " 'Mas Vnr Type',\n",
    " 'Foundation',\n",
    " #'Garage Type', \n",
    " #'Garage Finish',\n",
    " #'Paved Drive',\n",
    " 'Sale Type']"
   ]
  },
  {
   "cell_type": "code",
   "execution_count": 39,
   "metadata": {},
   "outputs": [
    {
     "data": {
      "text/plain": [
       "(17, 11)"
      ]
     },
     "execution_count": 39,
     "metadata": {},
     "output_type": "execute_result"
    }
   ],
   "source": [
    "len(features2),len(model_cat_features)"
   ]
  },
  {
   "cell_type": "markdown",
   "metadata": {},
   "source": [
    "### Establishing Features"
   ]
  },
  {
   "cell_type": "markdown",
   "metadata": {},
   "source": [
    "#### Encoding dummy variables manually since OneOneHotEncoder did not include every categorical variable and therefore made us unable to match coefficients with features"
   ]
  },
  {
   "cell_type": "code",
   "execution_count": 40,
   "metadata": {},
   "outputs": [
    {
     "name": "stdout",
     "output_type": "stream",
     "text": [
      "Feature: MS Zoning - Dropped column: A (agr)\n",
      "Feature: Lot Shape - Dropped column: IR1\n",
      "Feature: Neighborhood - Dropped column: Blmngtn\n",
      "Feature: Condition 1 - Dropped column: Artery\n",
      "Feature: Bldg Type - Dropped column: 1Fam\n",
      "Feature: House Style - Dropped column: 1.5Fin\n",
      "Feature: Roof Style - Dropped column: Flat\n",
      "Feature: Exterior 1st - Dropped column: AsbShng\n",
      "Feature: Mas Vnr Type - Dropped column: BrkCmn\n",
      "Feature: Foundation - Dropped column: BrkTil\n",
      "Feature: Sale Type - Dropped column: COD\n"
     ]
    },
    {
     "data": {
      "text/plain": [
       "LinearRegression()"
      ]
     },
     "execution_count": 40,
     "metadata": {},
     "output_type": "execute_result"
    }
   ],
   "source": [
    "X = train[features2]\n",
    "for n in model_cat_features:\n",
    "    print(\"Feature:\",n,\"- Dropped column:\",pd.get_dummies(train[n]).columns[0])\n",
    "    dummy = pd.get_dummies(train[n],drop_first=True,prefix=n.upper())\n",
    "    X = pd.concat([X,dummy],axis=1)\n",
    "y = train['SalePrice']\n",
    "X_train,X_test,y_train,y_test = train_test_split(X,y,random_state=42)\n",
    "lin_reg = LinearRegression()\n",
    "lin_reg.fit(X_train,y_train)"
   ]
  },
  {
   "cell_type": "markdown",
   "metadata": {},
   "source": [
    "### Encoding the categorical variables"
   ]
  },
  {
   "cell_type": "code",
   "execution_count": 41,
   "metadata": {},
   "outputs": [],
   "source": [
    "#Pipeline code that refuses to include every categorical dummy and\n",
    "#therefore makes coefficients unreliable despite the model being 88% accurate\n",
    "\"\"\"ct = make_column_transformer(\n",
    "    (OneHotEncoder(drop='first',handle_unknown='ignore',sparse=False), model_cat_features),\n",
    "    remainder = 'passthrough'\n",
    ")\n",
    "\n",
    "### Running the encoder and regression through a pipeline\n",
    "pipe = Pipeline(steps=[\n",
    "    ('ct',ct),\n",
    "    ('scaler',StandardScaler()),\n",
    "    ('lr',LinearRegression())]\n",
    ")\n",
    "\n",
    "pipe.fit(X_train,y_train);\n",
    "model_scores(pipe,X_train,X_test,y_train,y_test)\n",
    "pipe.named_steps.lr.coef_\n",
    "\n",
    "ohe = OneHotEncoder(drop='first',handle_unknown='ignore',sparse=False)\n",
    "ohe.fit(train[model_cat_features])\n",
    "features = ohe.get_feature_names_out().tolist() + features2\n",
    "\n",
    "df = pd.DataFrame(zip(features,pipe.named_steps.lr.coef_),columns=['feature','coef'])\n",
    "\"\"\";"
   ]
  },
  {
   "cell_type": "markdown",
   "metadata": {},
   "source": [
    "### Evaluating our Production Model"
   ]
  },
  {
   "cell_type": "markdown",
   "metadata": {},
   "source": [
    "Our model accounts for 90.23% of the variance in our training data and accounts for 88.11% of the variance in our test data. It is a strong model that has a slight amount of overfitting due to having a higher training score than test score."
   ]
  },
  {
   "cell_type": "code",
   "execution_count": 42,
   "metadata": {},
   "outputs": [
    {
     "name": "stdout",
     "output_type": "stream",
     "text": [
      "R2 Accuracy Score for Training Data: 0.90193\n",
      "R2 Accuracy Score for Testing Data: 0.88149\n",
      "R2 Score of Training Data (calculated with r2_score()):  0.90193\n",
      "R2 Score of Testing Data (calculated with r2_score()):  0.88149\n",
      "Root Mean Squared Error of Training Data: 24831.98149\n",
      "Root Mean Squared Error of Testing Data: 27191.8741\n"
     ]
    }
   ],
   "source": [
    "model_scores(lin_reg,X_train,X_test,y_train,y_test)"
   ]
  },
  {
   "cell_type": "markdown",
   "metadata": {},
   "source": [
    "#### Our regression coefficents"
   ]
  },
  {
   "cell_type": "code",
   "execution_count": 43,
   "metadata": {},
   "outputs": [],
   "source": [
    "coefs = lin_reg.coef_"
   ]
  },
  {
   "cell_type": "markdown",
   "metadata": {},
   "source": [
    "#### Our intercept"
   ]
  },
  {
   "cell_type": "code",
   "execution_count": 44,
   "metadata": {},
   "outputs": [
    {
     "data": {
      "text/plain": [
       "-832020.4238864164"
      ]
     },
     "execution_count": 44,
     "metadata": {},
     "output_type": "execute_result"
    }
   ],
   "source": [
    "lin_reg.intercept_"
   ]
  },
  {
   "cell_type": "markdown",
   "metadata": {},
   "source": [
    "### Getting feature names to match with the coefficients"
   ]
  },
  {
   "cell_type": "code",
   "execution_count": null,
   "metadata": {},
   "outputs": [],
   "source": []
  },
  {
   "cell_type": "code",
   "execution_count": 45,
   "metadata": {},
   "outputs": [
    {
     "data": {
      "text/html": [
       "<div>\n",
       "<style scoped>\n",
       "    .dataframe tbody tr th:only-of-type {\n",
       "        vertical-align: middle;\n",
       "    }\n",
       "\n",
       "    .dataframe tbody tr th {\n",
       "        vertical-align: top;\n",
       "    }\n",
       "\n",
       "    .dataframe thead th {\n",
       "        text-align: right;\n",
       "    }\n",
       "</style>\n",
       "<table border=\"1\" class=\"dataframe\">\n",
       "  <thead>\n",
       "    <tr style=\"text-align: right;\">\n",
       "      <th></th>\n",
       "      <th>feature</th>\n",
       "      <th>coef</th>\n",
       "    </tr>\n",
       "  </thead>\n",
       "  <tbody>\n",
       "    <tr>\n",
       "      <th>79</th>\n",
       "      <td>EXTERIOR 1ST_BrkFace</td>\n",
       "      <td>19957.646227</td>\n",
       "    </tr>\n",
       "    <tr>\n",
       "      <th>18</th>\n",
       "      <td>MS ZONING_FV</td>\n",
       "      <td>19801.528796</td>\n",
       "    </tr>\n",
       "    <tr>\n",
       "      <th>41</th>\n",
       "      <td>NEIGHBORHOOD_NPkVill</td>\n",
       "      <td>17887.034013</td>\n",
       "    </tr>\n",
       "    <tr>\n",
       "      <th>44</th>\n",
       "      <td>NEIGHBORHOOD_NridgHt</td>\n",
       "      <td>17861.145920</td>\n",
       "    </tr>\n",
       "    <tr>\n",
       "      <th>70</th>\n",
       "      <td>HOUSE STYLE_SFoyer</td>\n",
       "      <td>17760.159792</td>\n",
       "    </tr>\n",
       "    <tr>\n",
       "      <th>55</th>\n",
       "      <td>CONDITION 1_PosA</td>\n",
       "      <td>17043.005218</td>\n",
       "    </tr>\n",
       "    <tr>\n",
       "      <th>81</th>\n",
       "      <td>EXTERIOR 1ST_CemntBd</td>\n",
       "      <td>16693.453245</td>\n",
       "    </tr>\n",
       "    <tr>\n",
       "      <th>101</th>\n",
       "      <td>SALE TYPE_ConLD</td>\n",
       "      <td>16377.554063</td>\n",
       "    </tr>\n",
       "    <tr>\n",
       "      <th>91</th>\n",
       "      <td>MAS VNR TYPE_BrkFace</td>\n",
       "      <td>16235.289284</td>\n",
       "    </tr>\n",
       "    <tr>\n",
       "      <th>98</th>\n",
       "      <td>FOUNDATION_Wood</td>\n",
       "      <td>14849.160869</td>\n",
       "    </tr>\n",
       "    <tr>\n",
       "      <th>27</th>\n",
       "      <td>NEIGHBORHOOD_BrDale</td>\n",
       "      <td>14539.725731</td>\n",
       "    </tr>\n",
       "    <tr>\n",
       "      <th>21</th>\n",
       "      <td>MS ZONING_RL</td>\n",
       "      <td>14108.451375</td>\n",
       "    </tr>\n",
       "    <tr>\n",
       "      <th>97</th>\n",
       "      <td>FOUNDATION_Stone</td>\n",
       "      <td>13842.720778</td>\n",
       "    </tr>\n",
       "    <tr>\n",
       "      <th>23</th>\n",
       "      <td>LOT SHAPE_IR2</td>\n",
       "      <td>13526.392577</td>\n",
       "    </tr>\n",
       "    <tr>\n",
       "      <th>22</th>\n",
       "      <td>MS ZONING_RM</td>\n",
       "      <td>13332.748232</td>\n",
       "    </tr>\n",
       "    <tr>\n",
       "      <th>13</th>\n",
       "      <td>Exter Qual</td>\n",
       "      <td>13080.686590</td>\n",
       "    </tr>\n",
       "    <tr>\n",
       "      <th>71</th>\n",
       "      <td>HOUSE STYLE_SLvl</td>\n",
       "      <td>12894.738544</td>\n",
       "    </tr>\n",
       "    <tr>\n",
       "      <th>20</th>\n",
       "      <td>MS ZONING_RH</td>\n",
       "      <td>12754.408234</td>\n",
       "    </tr>\n",
       "    <tr>\n",
       "      <th>106</th>\n",
       "      <td>SALE TYPE_WD</td>\n",
       "      <td>12052.026402</td>\n",
       "    </tr>\n",
       "    <tr>\n",
       "      <th>90</th>\n",
       "      <td>EXTERIOR 1ST_WdShing</td>\n",
       "      <td>11655.445485</td>\n",
       "    </tr>\n",
       "    <tr>\n",
       "      <th>84</th>\n",
       "      <td>EXTERIOR 1ST_MetalSd</td>\n",
       "      <td>11449.752474</td>\n",
       "    </tr>\n",
       "    <tr>\n",
       "      <th>31</th>\n",
       "      <td>NEIGHBORHOOD_Crawfor</td>\n",
       "      <td>10886.786422</td>\n",
       "    </tr>\n",
       "    <tr>\n",
       "      <th>68</th>\n",
       "      <td>HOUSE STYLE_2.5Unf</td>\n",
       "      <td>10483.598556</td>\n",
       "    </tr>\n",
       "    <tr>\n",
       "      <th>12</th>\n",
       "      <td>Kitchen Qual</td>\n",
       "      <td>10467.801327</td>\n",
       "    </tr>\n",
       "    <tr>\n",
       "      <th>29</th>\n",
       "      <td>NEIGHBORHOOD_ClearCr</td>\n",
       "      <td>10402.498756</td>\n",
       "    </tr>\n",
       "    <tr>\n",
       "      <th>43</th>\n",
       "      <td>NEIGHBORHOOD_NoRidge</td>\n",
       "      <td>9260.014943</td>\n",
       "    </tr>\n",
       "    <tr>\n",
       "      <th>15</th>\n",
       "      <td>Overall Qual</td>\n",
       "      <td>9040.674865</td>\n",
       "    </tr>\n",
       "    <tr>\n",
       "      <th>65</th>\n",
       "      <td>HOUSE STYLE_1.5Unf</td>\n",
       "      <td>8827.747498</td>\n",
       "    </tr>\n",
       "    <tr>\n",
       "      <th>17</th>\n",
       "      <td>MS ZONING_C (all)</td>\n",
       "      <td>7827.036515</td>\n",
       "    </tr>\n",
       "    <tr>\n",
       "      <th>66</th>\n",
       "      <td>HOUSE STYLE_1Story</td>\n",
       "      <td>7401.400831</td>\n",
       "    </tr>\n",
       "  </tbody>\n",
       "</table>\n",
       "</div>"
      ],
      "text/plain": [
       "                  feature          coef\n",
       "79   EXTERIOR 1ST_BrkFace  19957.646227\n",
       "18           MS ZONING_FV  19801.528796\n",
       "41   NEIGHBORHOOD_NPkVill  17887.034013\n",
       "44   NEIGHBORHOOD_NridgHt  17861.145920\n",
       "70     HOUSE STYLE_SFoyer  17760.159792\n",
       "55       CONDITION 1_PosA  17043.005218\n",
       "81   EXTERIOR 1ST_CemntBd  16693.453245\n",
       "101       SALE TYPE_ConLD  16377.554063\n",
       "91   MAS VNR TYPE_BrkFace  16235.289284\n",
       "98        FOUNDATION_Wood  14849.160869\n",
       "27    NEIGHBORHOOD_BrDale  14539.725731\n",
       "21           MS ZONING_RL  14108.451375\n",
       "97       FOUNDATION_Stone  13842.720778\n",
       "23          LOT SHAPE_IR2  13526.392577\n",
       "22           MS ZONING_RM  13332.748232\n",
       "13             Exter Qual  13080.686590\n",
       "71       HOUSE STYLE_SLvl  12894.738544\n",
       "20           MS ZONING_RH  12754.408234\n",
       "106         SALE TYPE_WD   12052.026402\n",
       "90   EXTERIOR 1ST_WdShing  11655.445485\n",
       "84   EXTERIOR 1ST_MetalSd  11449.752474\n",
       "31   NEIGHBORHOOD_Crawfor  10886.786422\n",
       "68     HOUSE STYLE_2.5Unf  10483.598556\n",
       "12           Kitchen Qual  10467.801327\n",
       "29   NEIGHBORHOOD_ClearCr  10402.498756\n",
       "43   NEIGHBORHOOD_NoRidge   9260.014943\n",
       "15           Overall Qual   9040.674865\n",
       "65     HOUSE STYLE_1.5Unf   8827.747498\n",
       "17      MS ZONING_C (all)   7827.036515\n",
       "66     HOUSE STYLE_1Story   7401.400831"
      ]
     },
     "execution_count": 45,
     "metadata": {},
     "output_type": "execute_result"
    }
   ],
   "source": [
    "df = pd.DataFrame(zip(X.columns,coefs),columns=['feature','coef'])\n",
    "df.sort_values(by='coef',ascending=False)[df['coef']<20000].head(30)"
   ]
  },
  {
   "cell_type": "code",
   "execution_count": 46,
   "metadata": {},
   "outputs": [],
   "source": [
    "for i in range(df.shape[0]):\n",
    "    #print(df.sort_values(by='coef',ascending=False).iloc[i],'\\n')\n",
    "    pass"
   ]
  },
  {
   "cell_type": "markdown",
   "metadata": {},
   "source": [
    "### Residual Analysis"
   ]
  },
  {
   "cell_type": "code",
   "execution_count": 47,
   "metadata": {},
   "outputs": [],
   "source": [
    "residuals = (train['SalePrice']-lin_reg.predict(X))"
   ]
  },
  {
   "cell_type": "code",
   "execution_count": 48,
   "metadata": {},
   "outputs": [
    {
     "data": {
      "text/plain": [
       "Text(0, 0.5, 'Residuals ($1000)')"
      ]
     },
     "execution_count": 48,
     "metadata": {},
     "output_type": "execute_result"
    },
    {
     "data": {
      "image/png": "[encoded data removed]",
      "text/plain": [
       "<Figure size 432x288 with 1 Axes>"
      ]
     },
     "metadata": {},
     "output_type": "display_data"
    }
   ],
   "source": [
    "sns.set_style('darkgrid')\n",
    "sns.residplot(x = lin_reg.predict(X)/1000, y = residuals/1000, lowess = True,line_kws = {'color':'red'})\n",
    "plt.xlabel('Predicted Housing Price ($1000)')\n",
    "plt.ylabel('Residuals ($1000)')"
   ]
  },
  {
   "cell_type": "code",
   "execution_count": 49,
   "metadata": {},
   "outputs": [
    {
     "data": {
      "text/plain": [
       "Text(0.5, 1.0, 'Linear Regression Residual Distribution')"
      ]
     },
     "execution_count": 49,
     "metadata": {},
     "output_type": "execute_result"
    },
    {
     "data": {
      "image/png": "[encoded data removed]",
      "text/plain": [
       "<Figure size 432x288 with 1 Axes>"
      ]
     },
     "metadata": {},
     "output_type": "display_data"
    }
   ],
   "source": [
    "plt.hist(residuals/1000,bins=50,edgecolor='white',color='red');\n",
    "plt.ylabel('Density')\n",
    "plt.xlabel('Residuals ($1000)')\n",
    "plt.title('Linear Regression Residual Distribution')"
   ]
  },
  {
   "cell_type": "markdown",
   "metadata": {},
   "source": [
    "Our model's residuals are normally distributed with the tiniest skew to the left, meaning it satisfies the linear regression assumption that the errors are normally distributed.\n",
    "\n",
    "The errors appear to be independent, not having a significant trend. The exception to this is the residuals diverging gradually after the predicted price exceeds 300,000 dollars. This is not surprising as only 7.97% of the data entries in our train dataset have a sale price greater than 300,000 dollars, so the model is not as familiar with high value houses as it is with houses sold for less than 300 thousand dollars."
   ]
  },
  {
   "cell_type": "code",
   "execution_count": 50,
   "metadata": {},
   "outputs": [
    {
     "name": "stdout",
     "output_type": "stream",
     "text": [
      "(163, 83) (2045, 83)\n",
      "7.970660146699267\n"
     ]
    }
   ],
   "source": [
    "print(train[train['SalePrice']>300000].shape,train.shape)\n",
    "print(train[train['SalePrice']>300000].shape[0]/train.shape[0]*100)"
   ]
  },
  {
   "cell_type": "markdown",
   "metadata": {},
   "source": [
    "### Conclusions"
   ]
  },
  {
   "cell_type": "markdown",
   "metadata": {},
   "source": [
    "Given our linear regression model, we can predict the prices of real estate sold in Ames, Iowa from 2007 to 2010 with an model accuracy rate of 88.15%."
   ]
  },
  {
   "cell_type": "code",
   "execution_count": 51,
   "metadata": {},
   "outputs": [
    {
     "data": {
      "image/png": "[encoded data removed]",
      "text/plain": [
       "<Figure size 432x288 with 1 Axes>"
      ]
     },
     "metadata": {},
     "output_type": "display_data"
    }
   ],
   "source": [
    "sns.scatterplot(x=train['SalePrice']/1000,y=lin_reg.predict(X)/1000)\n",
    "plt.xlabel('Actual Price ($1000)')\n",
    "plt.ylabel('Predicted Price ($1000)')\n",
    "plt.title('Model Errors plotted as Actual Price vs Predicted');"
   ]
  },
  {
   "cell_type": "code",
   "execution_count": 52,
   "metadata": {},
   "outputs": [
    {
     "data": {
      "image/png": "[encoded data removed]",
      "text/plain": [
       "<Figure size 432x288 with 1 Axes>"
      ]
     },
     "metadata": {},
     "output_type": "display_data"
    }
   ],
   "source": [
    "sns.regplot(x=train['SalePrice']/1000,y=lin_reg.predict(X)/1000,color='cornflowerblue', data=train,line_kws={'color':'darkblue'});\n",
    "plt.xlabel('actual price')\n",
    "plt.ylabel('predicted price')\n",
    "plt.title('Actual vs Predicted Sale Price');\n",
    "plt.savefig('../figures/model.png')"
   ]
  },
  {
   "cell_type": "code",
   "execution_count": null,
   "metadata": {},
   "outputs": [],
   "source": []
  }
 ],
 "metadata": {
  "kernelspec": {
   "display_name": "Python 3",
   "language": "python",
   "name": "python3"
  },
  "language_info": {
   "codemirror_mode": {
    "name": "ipython",
    "version": 3
   },
   "file_extension": ".py",
   "mimetype": "text/x-python",
   "name": "python",
   "nbconvert_exporter": "python",
   "pygments_lexer": "ipython3",
   "version": "3.7.4"
  }
 },
 "nbformat": 4,
 "nbformat_minor": 4
}
