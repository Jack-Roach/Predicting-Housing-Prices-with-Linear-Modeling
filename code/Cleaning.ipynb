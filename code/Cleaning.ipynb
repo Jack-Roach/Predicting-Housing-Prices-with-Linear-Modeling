{
 "cells": [
  {
   "cell_type": "markdown",
   "metadata": {},
   "source": [
    "## Imports"
   ]
  },
  {
   "cell_type": "code",
   "execution_count": 1,
   "metadata": {},
   "outputs": [],
   "source": [
    "#General Libraries\n",
    "import numpy as np\n",
    "import pandas as pd\n",
    "import matplotlib.pyplot as plt\n",
    "import seaborn as sns\n",
    "\n",
    "#Hiding Pink Warnings\n",
    "import sys\n",
    "if not sys.warnoptions:\n",
    "    import warnings\n",
    "    warnings.simplefilter(\"ignore\")"
   ]
  },
  {
   "cell_type": "markdown",
   "metadata": {},
   "source": [
    "## Importing data from CSVs into DataFrames"
   ]
  },
  {
   "cell_type": "code",
   "execution_count": 2,
   "metadata": {},
   "outputs": [],
   "source": [
    "#Importing data\n",
    "train = pd.read_csv('../datasets/train.csv', na_values = \"\", keep_default_na = False)\n",
    "test = pd.read_csv('../datasets/test.csv', na_values = \"\", keep_default_na = False)"
   ]
  },
  {
   "cell_type": "code",
   "execution_count": 3,
   "metadata": {},
   "outputs": [
    {
     "data": {
      "text/plain": [
       "(2051, 81)"
      ]
     },
     "execution_count": 3,
     "metadata": {},
     "output_type": "execute_result"
    }
   ],
   "source": [
    "train.shape"
   ]
  },
  {
   "cell_type": "code",
   "execution_count": 4,
   "metadata": {},
   "outputs": [
    {
     "data": {
      "text/plain": [
       "181469.70160897123"
      ]
     },
     "execution_count": 4,
     "metadata": {},
     "output_type": "execute_result"
    }
   ],
   "source": [
    "train['SalePrice'].mean()"
   ]
  },
  {
   "cell_type": "code",
   "execution_count": 5,
   "metadata": {},
   "outputs": [
    {
     "data": {
      "text/plain": [
       "162500.0"
      ]
     },
     "execution_count": 5,
     "metadata": {},
     "output_type": "execute_result"
    }
   ],
   "source": [
    "train['SalePrice'].median()"
   ]
  },
  {
   "cell_type": "code",
   "execution_count": 6,
   "metadata": {},
   "outputs": [
    {
     "data": {
      "text/plain": [
       "(46,)"
      ]
     },
     "execution_count": 6,
     "metadata": {},
     "output_type": "execute_result"
    }
   ],
   "source": [
    "train['SalePrice'][train['SalePrice']>400000].shape"
   ]
  },
  {
   "cell_type": "markdown",
   "metadata": {},
   "source": [
    "### Removal of 'Gr Liv Area' Outliers identified by Dean De Cock, who gathered the intial data file collected by the Ames, Iowa Assessor’s Office \n",
    "The researcher who originally analyzed the data this was taken from indicated 5 observations that are outliers due to partial sales that most likely do not reflect accurate market values. The researcher suggested to remove any data points with a \"Gr Liv Area\" value greater than 4000 to remove these outliers, which I am going to do. These sales are indicated by the analyst as partial, which is a categorical value of a column called \"Sale Condition\". \"Sale Condition\" is not a listed feature in the training or testing data sets."
   ]
  },
  {
   "cell_type": "code",
   "execution_count": 7,
   "metadata": {},
   "outputs": [
    {
     "data": {
      "text/html": [
       "<div>\n",
       "<style scoped>\n",
       "    .dataframe tbody tr th:only-of-type {\n",
       "        vertical-align: middle;\n",
       "    }\n",
       "\n",
       "    .dataframe tbody tr th {\n",
       "        vertical-align: top;\n",
       "    }\n",
       "\n",
       "    .dataframe thead th {\n",
       "        text-align: right;\n",
       "    }\n",
       "</style>\n",
       "<table border=\"1\" class=\"dataframe\">\n",
       "  <thead>\n",
       "    <tr style=\"text-align: right;\">\n",
       "      <th></th>\n",
       "      <th>Id</th>\n",
       "      <th>PID</th>\n",
       "      <th>MS SubClass</th>\n",
       "      <th>MS Zoning</th>\n",
       "      <th>Lot Frontage</th>\n",
       "      <th>Lot Area</th>\n",
       "      <th>Street</th>\n",
       "      <th>Alley</th>\n",
       "      <th>Lot Shape</th>\n",
       "      <th>Land Contour</th>\n",
       "      <th>...</th>\n",
       "      <th>Screen Porch</th>\n",
       "      <th>Pool Area</th>\n",
       "      <th>Pool QC</th>\n",
       "      <th>Fence</th>\n",
       "      <th>Misc Feature</th>\n",
       "      <th>Misc Val</th>\n",
       "      <th>Mo Sold</th>\n",
       "      <th>Yr Sold</th>\n",
       "      <th>Sale Type</th>\n",
       "      <th>SalePrice</th>\n",
       "    </tr>\n",
       "  </thead>\n",
       "  <tbody>\n",
       "    <tr>\n",
       "      <th>960</th>\n",
       "      <td>1499</td>\n",
       "      <td>908154235</td>\n",
       "      <td>60</td>\n",
       "      <td>RL</td>\n",
       "      <td>313.0</td>\n",
       "      <td>63887</td>\n",
       "      <td>Pave</td>\n",
       "      <td>NA</td>\n",
       "      <td>IR3</td>\n",
       "      <td>Bnk</td>\n",
       "      <td>...</td>\n",
       "      <td>0</td>\n",
       "      <td>480</td>\n",
       "      <td>Gd</td>\n",
       "      <td>NA</td>\n",
       "      <td>NA</td>\n",
       "      <td>0</td>\n",
       "      <td>1</td>\n",
       "      <td>2008</td>\n",
       "      <td>New</td>\n",
       "      <td>160000</td>\n",
       "    </tr>\n",
       "    <tr>\n",
       "      <th>1885</th>\n",
       "      <td>2181</td>\n",
       "      <td>908154195</td>\n",
       "      <td>20</td>\n",
       "      <td>RL</td>\n",
       "      <td>128.0</td>\n",
       "      <td>39290</td>\n",
       "      <td>Pave</td>\n",
       "      <td>NA</td>\n",
       "      <td>IR1</td>\n",
       "      <td>Bnk</td>\n",
       "      <td>...</td>\n",
       "      <td>0</td>\n",
       "      <td>0</td>\n",
       "      <td>NA</td>\n",
       "      <td>NA</td>\n",
       "      <td>Elev</td>\n",
       "      <td>17000</td>\n",
       "      <td>10</td>\n",
       "      <td>2007</td>\n",
       "      <td>New</td>\n",
       "      <td>183850</td>\n",
       "    </tr>\n",
       "  </tbody>\n",
       "</table>\n",
       "<p>2 rows × 81 columns</p>\n",
       "</div>"
      ],
      "text/plain": [
       "        Id        PID  MS SubClass MS Zoning  Lot Frontage  Lot Area Street  \\\n",
       "960   1499  908154235           60        RL         313.0     63887   Pave   \n",
       "1885  2181  908154195           20        RL         128.0     39290   Pave   \n",
       "\n",
       "     Alley Lot Shape Land Contour  ... Screen Porch Pool Area Pool QC Fence  \\\n",
       "960     NA       IR3          Bnk  ...            0       480      Gd    NA   \n",
       "1885    NA       IR1          Bnk  ...            0         0      NA    NA   \n",
       "\n",
       "     Misc Feature Misc Val Mo Sold Yr Sold  Sale Type  SalePrice  \n",
       "960            NA        0       1    2008        New     160000  \n",
       "1885         Elev    17000      10    2007        New     183850  \n",
       "\n",
       "[2 rows x 81 columns]"
      ]
     },
     "execution_count": 7,
     "metadata": {},
     "output_type": "execute_result"
    }
   ],
   "source": [
    "train[train['Gr Liv Area']>4000]"
   ]
  },
  {
   "cell_type": "code",
   "execution_count": 8,
   "metadata": {},
   "outputs": [
    {
     "data": {
      "image/png": "[encoded data removed]",
      "text/plain": [
       "<Figure size 432x288 with 1 Axes>"
      ]
     },
     "metadata": {
      "needs_background": "light"
     },
     "output_type": "display_data"
    }
   ],
   "source": [
    "plt.scatter(x=train['Gr Liv Area'],y=train['SalePrice'],c=train['Gr Liv Area'], cmap = 'Blues')\n",
    "plt.xlabel('Above Ground Living Area (sqft)')\n",
    "plt.ylabel('Sale Price $')\n",
    "plt.title('Sale Price based off of Living Area');"
   ]
  },
  {
   "cell_type": "code",
   "execution_count": 9,
   "metadata": {},
   "outputs": [],
   "source": [
    "#Removing 'Gr Liv Area' Outliers\n",
    "train = train[train['Gr Liv Area']<4000]"
   ]
  },
  {
   "cell_type": "code",
   "execution_count": 10,
   "metadata": {},
   "outputs": [
    {
     "data": {
      "image/png": "[encoded data removed]",
      "text/plain": [
       "<Figure size 432x288 with 1 Axes>"
      ]
     },
     "metadata": {
      "needs_background": "light"
     },
     "output_type": "display_data"
    }
   ],
   "source": [
    "plt.scatter(x=train['Gr Liv Area'],y=train['SalePrice'],c=train['Gr Liv Area'], cmap = 'Blues')\n",
    "plt.xlabel('Above Ground Living Area (sqft)')\n",
    "plt.ylabel('Sale Price $')\n",
    "plt.title('Sale Price based off of Living Area (after outlier pruning)');"
   ]
  },
  {
   "cell_type": "markdown",
   "metadata": {},
   "source": [
    "### Lot Area - Dropping extreme outliers\n",
    "Removing three entries whose 'Lot Area' values are more than 9 standard deviations from the mean lot area of the data set"
   ]
  },
  {
   "cell_type": "code",
   "execution_count": 11,
   "metadata": {},
   "outputs": [
    {
     "data": {
      "text/plain": [
       "6608.511748863536"
      ]
     },
     "execution_count": 11,
     "metadata": {},
     "output_type": "execute_result"
    }
   ],
   "source": [
    "lot_area_std = train['Lot Area'].std()\n",
    "lot_area_std"
   ]
  },
  {
   "cell_type": "code",
   "execution_count": 12,
   "metadata": {},
   "outputs": [
    {
     "data": {
      "text/plain": [
       "10024.677891654466"
      ]
     },
     "execution_count": 12,
     "metadata": {},
     "output_type": "execute_result"
    }
   ],
   "source": [
    "lot_area_mean = train['Lot Area'].mean()\n",
    "lot_area_mean"
   ]
  },
  {
   "cell_type": "code",
   "execution_count": 13,
   "metadata": {},
   "outputs": [
    {
     "data": {
      "text/plain": [
       "471     22.542946\n",
       "694     15.907412\n",
       "1854     9.190620\n",
       "Name: Lot Area, dtype: float64"
      ]
     },
     "execution_count": 13,
     "metadata": {},
     "output_type": "execute_result"
    }
   ],
   "source": [
    "(train['Lot Area'][train['Lot Area']>60000]-train['Lot Area'].mean())/train['Lot Area'].std()"
   ]
  },
  {
   "cell_type": "code",
   "execution_count": 14,
   "metadata": {},
   "outputs": [
    {
     "data": {
      "text/html": [
       "<div>\n",
       "<style scoped>\n",
       "    .dataframe tbody tr th:only-of-type {\n",
       "        vertical-align: middle;\n",
       "    }\n",
       "\n",
       "    .dataframe tbody tr th {\n",
       "        vertical-align: top;\n",
       "    }\n",
       "\n",
       "    .dataframe thead th {\n",
       "        text-align: right;\n",
       "    }\n",
       "</style>\n",
       "<table border=\"1\" class=\"dataframe\">\n",
       "  <thead>\n",
       "    <tr style=\"text-align: right;\">\n",
       "      <th></th>\n",
       "      <th>Id</th>\n",
       "      <th>PID</th>\n",
       "      <th>MS SubClass</th>\n",
       "      <th>MS Zoning</th>\n",
       "      <th>Lot Frontage</th>\n",
       "      <th>Lot Area</th>\n",
       "      <th>Street</th>\n",
       "      <th>Alley</th>\n",
       "      <th>Lot Shape</th>\n",
       "      <th>Land Contour</th>\n",
       "      <th>...</th>\n",
       "      <th>Screen Porch</th>\n",
       "      <th>Pool Area</th>\n",
       "      <th>Pool QC</th>\n",
       "      <th>Fence</th>\n",
       "      <th>Misc Feature</th>\n",
       "      <th>Misc Val</th>\n",
       "      <th>Mo Sold</th>\n",
       "      <th>Yr Sold</th>\n",
       "      <th>Sale Type</th>\n",
       "      <th>SalePrice</th>\n",
       "    </tr>\n",
       "  </thead>\n",
       "  <tbody>\n",
       "    <tr>\n",
       "      <th>471</th>\n",
       "      <td>2116</td>\n",
       "      <td>906426060</td>\n",
       "      <td>50</td>\n",
       "      <td>RL</td>\n",
       "      <td>NaN</td>\n",
       "      <td>159000</td>\n",
       "      <td>Pave</td>\n",
       "      <td>NA</td>\n",
       "      <td>IR2</td>\n",
       "      <td>Low</td>\n",
       "      <td>...</td>\n",
       "      <td>0</td>\n",
       "      <td>0</td>\n",
       "      <td>NA</td>\n",
       "      <td>NA</td>\n",
       "      <td>Shed</td>\n",
       "      <td>500</td>\n",
       "      <td>6</td>\n",
       "      <td>2007</td>\n",
       "      <td>WD</td>\n",
       "      <td>277000</td>\n",
       "    </tr>\n",
       "    <tr>\n",
       "      <th>694</th>\n",
       "      <td>2072</td>\n",
       "      <td>905301050</td>\n",
       "      <td>20</td>\n",
       "      <td>RL</td>\n",
       "      <td>NaN</td>\n",
       "      <td>115149</td>\n",
       "      <td>Pave</td>\n",
       "      <td>NA</td>\n",
       "      <td>IR2</td>\n",
       "      <td>Low</td>\n",
       "      <td>...</td>\n",
       "      <td>0</td>\n",
       "      <td>0</td>\n",
       "      <td>NA</td>\n",
       "      <td>NA</td>\n",
       "      <td>NA</td>\n",
       "      <td>0</td>\n",
       "      <td>6</td>\n",
       "      <td>2007</td>\n",
       "      <td>WD</td>\n",
       "      <td>302000</td>\n",
       "    </tr>\n",
       "    <tr>\n",
       "      <th>1854</th>\n",
       "      <td>2767</td>\n",
       "      <td>906475200</td>\n",
       "      <td>20</td>\n",
       "      <td>RL</td>\n",
       "      <td>62.0</td>\n",
       "      <td>70761</td>\n",
       "      <td>Pave</td>\n",
       "      <td>NA</td>\n",
       "      <td>IR1</td>\n",
       "      <td>Low</td>\n",
       "      <td>...</td>\n",
       "      <td>0</td>\n",
       "      <td>0</td>\n",
       "      <td>NA</td>\n",
       "      <td>NA</td>\n",
       "      <td>NA</td>\n",
       "      <td>0</td>\n",
       "      <td>12</td>\n",
       "      <td>2006</td>\n",
       "      <td>WD</td>\n",
       "      <td>280000</td>\n",
       "    </tr>\n",
       "  </tbody>\n",
       "</table>\n",
       "<p>3 rows × 81 columns</p>\n",
       "</div>"
      ],
      "text/plain": [
       "        Id        PID  MS SubClass MS Zoning  Lot Frontage  Lot Area Street  \\\n",
       "471   2116  906426060           50        RL           NaN    159000   Pave   \n",
       "694   2072  905301050           20        RL           NaN    115149   Pave   \n",
       "1854  2767  906475200           20        RL          62.0     70761   Pave   \n",
       "\n",
       "     Alley Lot Shape Land Contour  ... Screen Porch Pool Area Pool QC Fence  \\\n",
       "471     NA       IR2          Low  ...            0         0      NA    NA   \n",
       "694     NA       IR2          Low  ...            0         0      NA    NA   \n",
       "1854    NA       IR1          Low  ...            0         0      NA    NA   \n",
       "\n",
       "     Misc Feature Misc Val Mo Sold Yr Sold  Sale Type  SalePrice  \n",
       "471          Shed      500       6    2007        WD      277000  \n",
       "694            NA        0       6    2007        WD      302000  \n",
       "1854           NA        0      12    2006        WD      280000  \n",
       "\n",
       "[3 rows x 81 columns]"
      ]
     },
     "execution_count": 14,
     "metadata": {},
     "output_type": "execute_result"
    }
   ],
   "source": [
    "(train[train['Lot Area']>60000])"
   ]
  },
  {
   "cell_type": "code",
   "execution_count": 15,
   "metadata": {},
   "outputs": [
    {
     "data": {
      "text/plain": [
       "Text(0.5, 1.0, 'Housing Sale Price Based off of Property Size')"
      ]
     },
     "execution_count": 15,
     "metadata": {},
     "output_type": "execute_result"
    },
    {
     "data": {
      "image/png": "[encoded data removed]",
      "text/plain": [
       "<Figure size 432x288 with 1 Axes>"
      ]
     },
     "metadata": {
      "needs_background": "light"
     },
     "output_type": "display_data"
    }
   ],
   "source": [
    "plt.scatter(x=train['Lot Area'],y=train['SalePrice']/1000,c=train['Lot Area'], cmap = 'Greens',edgecolors='lightgray')\n",
    "plt.xlabel('Lot Area (Square Feet)')\n",
    "plt.ylabel('Sale Price ($1000)')\n",
    "plt.title('Housing Sale Price Based off of Property Size')"
   ]
  },
  {
   "cell_type": "code",
   "execution_count": 16,
   "metadata": {},
   "outputs": [
    {
     "name": "stdout",
     "output_type": "stream",
     "text": [
      "(2049, 81)\n",
      "(2046, 81)\n"
     ]
    }
   ],
   "source": [
    "print(train.shape)\n",
    "train = train[train['Lot Area']<60000]\n",
    "print(train.shape)"
   ]
  },
  {
   "cell_type": "code",
   "execution_count": 17,
   "metadata": {},
   "outputs": [
    {
     "data": {
      "text/plain": [
       "Text(0.5, 1.0, 'Housing Sale Price Based off of Property Size')"
      ]
     },
     "execution_count": 17,
     "metadata": {},
     "output_type": "execute_result"
    },
    {
     "data": {
      "image/png": "[encoded data removed]",
      "text/plain": [
       "<Figure size 432x288 with 1 Axes>"
      ]
     },
     "metadata": {
      "needs_background": "light"
     },
     "output_type": "display_data"
    }
   ],
   "source": [
    "plt.scatter(x=train['Lot Area'],y=train['SalePrice']/1000,c=train['Lot Area'], cmap = 'Greens',edgecolors='lightgray')\n",
    "plt.xlabel('Lot Area (Square Feet)')\n",
    "plt.ylabel('Sale Price ($1000)')\n",
    "plt.title('Housing Sale Price Based off of Property Size')"
   ]
  },
  {
   "cell_type": "markdown",
   "metadata": {},
   "source": [
    "## Preliminary Data Inspection"
   ]
  },
  {
   "cell_type": "code",
   "execution_count": 18,
   "metadata": {},
   "outputs": [
    {
     "name": "stdout",
     "output_type": "stream",
     "text": [
      "(2046, 81)\n",
      "(878, 80)\n",
      "508\n",
      "209\n"
     ]
    }
   ],
   "source": [
    "print(train.shape)\n",
    "print(test.shape)\n",
    "print(train.isnull().sum().sum())\n",
    "print(test.isnull().sum().sum())"
   ]
  },
  {
   "cell_type": "markdown",
   "metadata": {},
   "source": [
    "### Displays all columns that have missing values and the number of missing values they have"
   ]
  },
  {
   "cell_type": "code",
   "execution_count": 19,
   "metadata": {},
   "outputs": [],
   "source": [
    "def display_null(df):\n",
    "    #displays the columns of a data frame with null values\n",
    "    for n in df.columns:\n",
    "        if df[n].isnull().sum() > 0:\n",
    "            print(f'{n}: {df[n].isnull().sum()}')\n",
    "    pass"
   ]
  },
  {
   "cell_type": "code",
   "execution_count": 20,
   "metadata": {},
   "outputs": [],
   "source": [
    "def display_garage(df,entry):\n",
    "    print('Displaying Garage data for data entry:',entry)\n",
    "    print('Garage Type:',df.iloc[entry]['Garage Type'])\n",
    "    print('Garage Year Built:',df.iloc[entry]['Garage Yr Blt'])\n",
    "    print('Garage Finish:',df.iloc[entry]['Garage Finish'])\n",
    "    print('Garage Cars:',df.iloc[entry]['Garage Cars'])\n",
    "    print('Garage Area:',df.iloc[entry]['Garage Area'])\n",
    "    print('Garage Quality:',df.iloc[entry]['Garage Qual'])\n",
    "    print('Garage Condition:',df.iloc[entry]['Garage Cond'])\n",
    "    if df.iloc[entry]['Misc Feature']=='Gar2':\n",
    "        print(f'Entry #{entry} has a second garage')\n",
    "    pass\n",
    "def display_basement(df,entry):\n",
    "    print('Displaying Basement data for data entry:',entry)\n",
    "    print('Quality (Height):',df.iloc[entry]['Bsmt Qual'])\n",
    "    print('Condition:',df.iloc[entry]['Bsmt Cond'])\n",
    "    print('Exposure:',df.iloc[entry]['Bsmt Exposure'])\n",
    "    print('Rating of basement finished area (Type 1):',df.iloc[entry]['BsmtFin Type 1'])\n",
    "    print('Type 1 finished square feet:',df.iloc[entry]['BsmtFin SF 1'])\n",
    "    print('Rating of basement finished area (Type 2):',df.iloc[entry]['BsmtFin Type 2'])\n",
    "    print('Type 2 finished square feet:',df.iloc[entry]['BsmtFin SF 2'])\n",
    "    print('Unfinished sq ft of basement area:',df.iloc[entry]['Bsmt Unf SF'])\n",
    "    print('Total are of basement in sq ft:',df.iloc[entry]['Total Bsmt SF'])\n",
    "    print('Basement Full Bathrooms:',df.iloc[entry]['Bsmt Full Bath'])\n",
    "    print('Basement Half Bathrooms:',df.iloc[entry]['Bsmt Half Bath'])\n",
    "    pass"
   ]
  },
  {
   "cell_type": "markdown",
   "metadata": {},
   "source": [
    "#### I'm using the below code to display the missing value sums in each column because train.isnull().sum() does not display all 81 columns, and so I'm using a for loop to ignore the columns with no missing values"
   ]
  },
  {
   "cell_type": "code",
   "execution_count": 21,
   "metadata": {},
   "outputs": [
    {
     "name": "stdout",
     "output_type": "stream",
     "text": [
      "Lot Frontage: 328\n",
      "Mas Vnr Type: 22\n",
      "Mas Vnr Area: 22\n",
      "Bsmt Qual: 1\n",
      "Bsmt Cond: 1\n",
      "Bsmt Exposure: 4\n",
      "BsmtFin Type 1: 1\n",
      "BsmtFin SF 1: 1\n",
      "BsmtFin Type 2: 2\n",
      "BsmtFin SF 2: 1\n",
      "Bsmt Unf SF: 1\n",
      "Total Bsmt SF: 1\n",
      "Bsmt Full Bath: 2\n",
      "Bsmt Half Bath: 2\n",
      "Garage Yr Blt: 114\n",
      "Garage Finish: 1\n",
      "Garage Cars: 1\n",
      "Garage Area: 1\n",
      "Garage Qual: 1\n",
      "Garage Cond: 1\n"
     ]
    }
   ],
   "source": [
    "#Displaying Nulls for Train Data\n",
    "display_null(train)"
   ]
  },
  {
   "cell_type": "code",
   "execution_count": 22,
   "metadata": {},
   "outputs": [
    {
     "name": "stdout",
     "output_type": "stream",
     "text": [
      "Lot Frontage: 160\n",
      "Mas Vnr Type: 1\n",
      "Mas Vnr Area: 1\n",
      "Electrical: 1\n",
      "Garage Yr Blt: 45\n",
      "Garage Finish: 1\n"
     ]
    }
   ],
   "source": [
    "#Desplaying Nulls for Test Data\n",
    "display_null(test)"
   ]
  },
  {
   "cell_type": "code",
   "execution_count": 23,
   "metadata": {},
   "outputs": [
    {
     "data": {
      "text/html": [
       "<div>\n",
       "<style scoped>\n",
       "    .dataframe tbody tr th:only-of-type {\n",
       "        vertical-align: middle;\n",
       "    }\n",
       "\n",
       "    .dataframe tbody tr th {\n",
       "        vertical-align: top;\n",
       "    }\n",
       "\n",
       "    .dataframe thead th {\n",
       "        text-align: right;\n",
       "    }\n",
       "</style>\n",
       "<table border=\"1\" class=\"dataframe\">\n",
       "  <thead>\n",
       "    <tr style=\"text-align: right;\">\n",
       "      <th></th>\n",
       "      <th>Id</th>\n",
       "      <th>PID</th>\n",
       "      <th>MS SubClass</th>\n",
       "      <th>MS Zoning</th>\n",
       "      <th>Lot Frontage</th>\n",
       "      <th>Lot Area</th>\n",
       "      <th>Street</th>\n",
       "      <th>Alley</th>\n",
       "      <th>Lot Shape</th>\n",
       "      <th>Land Contour</th>\n",
       "      <th>...</th>\n",
       "      <th>Screen Porch</th>\n",
       "      <th>Pool Area</th>\n",
       "      <th>Pool QC</th>\n",
       "      <th>Fence</th>\n",
       "      <th>Misc Feature</th>\n",
       "      <th>Misc Val</th>\n",
       "      <th>Mo Sold</th>\n",
       "      <th>Yr Sold</th>\n",
       "      <th>Sale Type</th>\n",
       "      <th>SalePrice</th>\n",
       "    </tr>\n",
       "  </thead>\n",
       "  <tbody>\n",
       "    <tr>\n",
       "      <th>1712</th>\n",
       "      <td>2237</td>\n",
       "      <td>910201180</td>\n",
       "      <td>70</td>\n",
       "      <td>RM</td>\n",
       "      <td>50.0</td>\n",
       "      <td>9060</td>\n",
       "      <td>Pave</td>\n",
       "      <td>NA</td>\n",
       "      <td>Reg</td>\n",
       "      <td>Lvl</td>\n",
       "      <td>...</td>\n",
       "      <td>0</td>\n",
       "      <td>0</td>\n",
       "      <td>NA</td>\n",
       "      <td>MnPrv</td>\n",
       "      <td>NA</td>\n",
       "      <td>0</td>\n",
       "      <td>3</td>\n",
       "      <td>2007</td>\n",
       "      <td>WD</td>\n",
       "      <td>150909</td>\n",
       "    </tr>\n",
       "  </tbody>\n",
       "</table>\n",
       "<p>1 rows × 81 columns</p>\n",
       "</div>"
      ],
      "text/plain": [
       "        Id        PID  MS SubClass MS Zoning  Lot Frontage  Lot Area Street  \\\n",
       "1712  2237  910201180           70        RM          50.0      9060   Pave   \n",
       "\n",
       "     Alley Lot Shape Land Contour  ... Screen Porch Pool Area Pool QC  Fence  \\\n",
       "1712    NA       Reg          Lvl  ...            0         0      NA  MnPrv   \n",
       "\n",
       "     Misc Feature Misc Val Mo Sold Yr Sold  Sale Type  SalePrice  \n",
       "1712           NA        0       3    2007        WD      150909  \n",
       "\n",
       "[1 rows x 81 columns]"
      ]
     },
     "execution_count": 23,
     "metadata": {},
     "output_type": "execute_result"
    }
   ],
   "source": [
    "#Showing the row where every garage value is missing except Garage Type\n",
    "#For future reference, it's entry 1712\n",
    "train[train['Garage Area'].isnull()]"
   ]
  },
  {
   "cell_type": "code",
   "execution_count": 24,
   "metadata": {},
   "outputs": [],
   "source": [
    "#Showing all values missing in entry 1712\n",
    "train[pd.isna(train['Garage Cars'])==True]\n",
    "for i in range(len(train.columns)):\n",
    "    if pd.isna(train.iloc[1712,i]):\n",
    "        print(train.columns[i],'-->',train.iloc[1712,i])"
   ]
  },
  {
   "cell_type": "code",
   "execution_count": 25,
   "metadata": {},
   "outputs": [
    {
     "name": "stdout",
     "output_type": "stream",
     "text": [
      "Displaying Garage data for data entry: 1712\n",
      "Garage Type: Attchd\n",
      "Garage Year Built: 2006.0\n",
      "Garage Finish: RFn\n",
      "Garage Cars: 2.0\n",
      "Garage Area: 472.0\n",
      "Garage Quality: TA\n",
      "Garage Condition: TA\n"
     ]
    }
   ],
   "source": [
    "\"\"\"Even though row 1712 is the only entry in trains.csv with missing Garage Finish, Cars, Area, Qual and Cond values,\n",
    "we won't be dropping it specifically in order to avoid hardcoding values\"\"\"\n",
    "display_garage(train,1712)"
   ]
  },
  {
   "cell_type": "code",
   "execution_count": 26,
   "metadata": {},
   "outputs": [],
   "source": [
    "#In case I want to simplify the columns later\n",
    "#train.columns = [n.lower() for n in train.columns]\n",
    "#train.columns"
   ]
  },
  {
   "cell_type": "markdown",
   "metadata": {},
   "source": [
    "### Filling Empty Lot Frontage Values"
   ]
  },
  {
   "cell_type": "code",
   "execution_count": 27,
   "metadata": {},
   "outputs": [
    {
     "name": "stdout",
     "output_type": "stream",
     "text": [
      "Lot Area Mean: 9870.799120234604\n",
      "Lot Area Median: 9400.0\n",
      "Lot Frontage Mean: 68.88300349243306\n",
      "Lot Frontage Median: 68.0\n",
      "Average Lot Area:Lot Frontage ratio: 140.0230675449925\n"
     ]
    }
   ],
   "source": [
    "area_mean = train['Lot Area'].mean()\n",
    "area_median = train['Lot Area'].median()\n",
    "front_mean = train['Lot Frontage'].mean()\n",
    "front_median = train['Lot Frontage'].median()\n",
    "\n",
    "print(\"Lot Area Mean:\",area_mean)\n",
    "print(\"Lot Area Median:\",area_median)\n",
    "print(\"Lot Frontage Mean:\",front_mean)\n",
    "print(\"Lot Frontage Median:\",front_median)\n",
    "\n",
    "train_mean_area_frontage_ratio = (train['Lot Area']/train['Lot Frontage']).mean()\n",
    "print('Average Lot Area:Lot Frontage ratio:',train_mean_area_frontage_ratio)\n",
    "\n",
    "\n",
    "train['Lot Frontage'].fillna(train['Lot Area']/train_mean_area_frontage_ratio,inplace=True)\n",
    "#Using the same Ratio in the test data for consistency\n",
    "#test['Lot Frontage'].fillna(test['Lot Area']/train_mean_area_frontage_ratio,inplace=True)"
   ]
  },
  {
   "cell_type": "markdown",
   "metadata": {},
   "source": [
    "#### Using train's average Lot Area to Lot Frontage ratio on the test dataset to be consistent when filling null values"
   ]
  },
  {
   "cell_type": "code",
   "execution_count": 28,
   "metadata": {},
   "outputs": [],
   "source": [
    "test['Lot Frontage'].fillna(test['Lot Area']/train_mean_area_frontage_ratio,inplace=True)"
   ]
  },
  {
   "cell_type": "markdown",
   "metadata": {},
   "source": [
    "### Year Garage was Built Column\n",
    "All entries with missing Garage Year Built values are houses without garages. I'm intentionally leaving them null as I can use the null values to make a has_garage column where houses without garages are labeled as null."
   ]
  },
  {
   "cell_type": "markdown",
   "metadata": {},
   "source": [
    "### Filling Missing Garage Values (excluding year built)"
   ]
  },
  {
   "cell_type": "code",
   "execution_count": 29,
   "metadata": {},
   "outputs": [],
   "source": [
    "train['Garage Finish'].fillna('NA',inplace=True)\n",
    "train['Garage Cars'].fillna(0,inplace=True)\n",
    "train['Garage Area'].fillna(0,inplace=True)\n",
    "train['Garage Qual'].fillna('NA',inplace=True)\n",
    "train['Garage Cond'].fillna('NA',inplace=True)"
   ]
  },
  {
   "cell_type": "code",
   "execution_count": 30,
   "metadata": {},
   "outputs": [],
   "source": [
    "test['Garage Finish'].fillna('NA',inplace=True)"
   ]
  },
  {
   "cell_type": "markdown",
   "metadata": {},
   "source": [
    "### Ensuring that all entries with a garage area of 0 have their Garage Type entry equal to 'NA'"
   ]
  },
  {
   "cell_type": "code",
   "execution_count": 31,
   "metadata": {},
   "outputs": [
    {
     "data": {
      "text/plain": [
       "NA    114\n",
       "Name: Garage Type, dtype: int64"
      ]
     },
     "execution_count": 31,
     "metadata": {},
     "output_type": "execute_result"
    }
   ],
   "source": [
    "train['Garage Type'][train['Garage Area']==0] = 'NA'\n",
    "#checking output\n",
    "train['Garage Type'][train['Garage Area']==0].value_counts()"
   ]
  },
  {
   "cell_type": "markdown",
   "metadata": {},
   "source": [
    "### Adding a column to indicate the age of a house's garage based on the year it was sold.\n",
    "The Garage Age column in training data should have 114 null values"
   ]
  },
  {
   "cell_type": "code",
   "execution_count": 32,
   "metadata": {},
   "outputs": [],
   "source": [
    "train['Garage Age'] = train['Yr Sold'] - train['Garage Yr Blt']\n",
    "test['Garage Age'] = test['Yr Sold'] - test['Garage Yr Blt']"
   ]
  },
  {
   "cell_type": "code",
   "execution_count": 33,
   "metadata": {},
   "outputs": [],
   "source": [
    "train['Garage Age'] = train['Yr Sold'] - train['Garage Yr Blt']\n",
    "train.drop(train[train[\"Garage Age\"]<0].index,inplace=True)"
   ]
  },
  {
   "cell_type": "code",
   "execution_count": 34,
   "metadata": {},
   "outputs": [],
   "source": [
    "#Entry with negative Garage Age, could be fixed by referencing the 'Year Remod/Add' column,\n",
    "#but we're going to drop it to avoid hard coding \n",
    "#train.loc[1699,'Garage Yr Blt']\n",
    "#train.loc[1699,'Garage Yr Blt'] = 2007"
   ]
  },
  {
   "cell_type": "code",
   "execution_count": 35,
   "metadata": {},
   "outputs": [
    {
     "name": "stdout",
     "output_type": "stream",
     "text": [
      "Mas Vnr Type: 21\n",
      "Mas Vnr Area: 21\n",
      "Bsmt Qual: 1\n",
      "Bsmt Cond: 1\n",
      "Bsmt Exposure: 4\n",
      "BsmtFin Type 1: 1\n",
      "BsmtFin SF 1: 1\n",
      "BsmtFin Type 2: 2\n",
      "BsmtFin SF 2: 1\n",
      "Bsmt Unf SF: 1\n",
      "Total Bsmt SF: 1\n",
      "Bsmt Full Bath: 2\n",
      "Bsmt Half Bath: 2\n",
      "Garage Yr Blt: 114\n",
      "Garage Age: 114\n"
     ]
    }
   ],
   "source": [
    "for n in train.columns:\n",
    "    if train[n].isnull().sum() > 0:\n",
    "        print(f'{n}: {train[n].isnull().sum()}')"
   ]
  },
  {
   "cell_type": "markdown",
   "metadata": {},
   "source": [
    "#### There are some values that are missing their Basement Exposure values but are not missing any other basement values, instead of marking the house as not having a basement, we're filling these values with 'No' values indicating the basements have no exposure"
   ]
  },
  {
   "cell_type": "code",
   "execution_count": 36,
   "metadata": {},
   "outputs": [
    {
     "data": {
      "text/plain": [
       "0"
      ]
     },
     "execution_count": 36,
     "metadata": {},
     "output_type": "execute_result"
    }
   ],
   "source": [
    "train['Bsmt Exposure'][train['Bsmt Qual'].isna()==False] = train['Bsmt Exposure'][train['Bsmt Qual'].isna()==False].fillna('No')\n",
    "train['Bsmt Exposure'][train['Bsmt Qual'].isna()==False].isna().sum()"
   ]
  },
  {
   "cell_type": "code",
   "execution_count": 37,
   "metadata": {},
   "outputs": [],
   "source": [
    "#Specific row with all basement values empty\n",
    "#train.loc[1327][train.loc[1327].isna() == True]"
   ]
  },
  {
   "cell_type": "markdown",
   "metadata": {},
   "source": [
    "#### Filling Empty Basement Values with values that indicate a basement is not present"
   ]
  },
  {
   "cell_type": "code",
   "execution_count": 38,
   "metadata": {},
   "outputs": [],
   "source": [
    "train['Bsmt Qual'].fillna('NA',inplace=True)\n",
    "train['Bsmt Cond'].fillna('NA',inplace=True)\n",
    "train['Bsmt Exposure'].fillna('NA',inplace=True)\n",
    "train['BsmtFin Type 1'].fillna('NA',inplace=True)\n",
    "train['BsmtFin SF 1'].fillna(0,inplace=True)\n",
    "train['BsmtFin Type 2'].fillna('NA',inplace=True)\n",
    "train['BsmtFin SF 2'].fillna(0,inplace=True)\n",
    "train['Bsmt Unf SF'].fillna(0,inplace=True)\n",
    "train['Total Bsmt SF'].fillna(0,inplace=True)\n",
    "train['Bsmt Full Bath'].fillna(0,inplace=True)\n",
    "train['Bsmt Half Bath'].fillna(0,inplace=True)"
   ]
  },
  {
   "cell_type": "markdown",
   "metadata": {},
   "source": [
    "#### Filling null values in 'Mas Vnr Area' and 'Mas Vnr Type' columns with 0 and 'None' respectively to indicate that the property does not have masonry veneer walls"
   ]
  },
  {
   "cell_type": "code",
   "execution_count": 39,
   "metadata": {},
   "outputs": [
    {
     "data": {
      "text/plain": [
       "Mas Vnr Area    21\n",
       "Mas Vnr Type    21\n",
       "dtype: int64"
      ]
     },
     "execution_count": 39,
     "metadata": {},
     "output_type": "execute_result"
    }
   ],
   "source": [
    "train[['Mas Vnr Area','Mas Vnr Type']].isna().sum()"
   ]
  },
  {
   "cell_type": "code",
   "execution_count": 40,
   "metadata": {},
   "outputs": [],
   "source": [
    "train['Mas Vnr Type'].fillna('None',inplace=True)\n",
    "train['Mas Vnr Area'].fillna(0,inplace=True)\n",
    "test['Mas Vnr Type'].fillna('None',inplace=True)\n",
    "test['Mas Vnr Area'].fillna(0,inplace=True)"
   ]
  },
  {
   "cell_type": "markdown",
   "metadata": {},
   "source": [
    "### Certain entries contained illogical Masonry Veener entries.\n",
    "#### Some house entries contain 'Mas Vnr Type' values that indicate a house has a Masonry Veneer wall, but the 'Mas Vnr Area' value is indicated as 0 square feet which implies there is none recorded. The 'Mas Vnr Type' cases in these cases are being reassigned to 'None'."
   ]
  },
  {
   "cell_type": "code",
   "execution_count": 41,
   "metadata": {},
   "outputs": [
    {
     "data": {
      "text/plain": [
       "None       1233\n",
       "BrkFace       2\n",
       "Stone         1\n",
       "Name: Mas Vnr Type, dtype: int64"
      ]
     },
     "execution_count": 41,
     "metadata": {},
     "output_type": "execute_result"
    }
   ],
   "source": [
    "train['Mas Vnr Type'][train['Mas Vnr Area'] == 0].value_counts()"
   ]
  },
  {
   "cell_type": "code",
   "execution_count": 42,
   "metadata": {},
   "outputs": [],
   "source": [
    "train['Mas Vnr Type'][train['Mas Vnr Area'] == 0] = 'None'"
   ]
  },
  {
   "cell_type": "markdown",
   "metadata": {},
   "source": [
    "#### Other house entries contain 'Mas Vnr Type' values that indicate a house does not have a Masonry Veneer wall, but their \"Mas Vnr Area' value is greater than zero, indicating there is some measurement. Because we have no way to determine what material the wall might be, the 'Mas Vnr Type' values are being kept as 'None' and the area values are being assigned to 0."
   ]
  },
  {
   "cell_type": "code",
   "execution_count": 43,
   "metadata": {},
   "outputs": [
    {
     "data": {
      "text/html": [
       "<div>\n",
       "<style scoped>\n",
       "    .dataframe tbody tr th:only-of-type {\n",
       "        vertical-align: middle;\n",
       "    }\n",
       "\n",
       "    .dataframe tbody tr th {\n",
       "        vertical-align: top;\n",
       "    }\n",
       "\n",
       "    .dataframe thead th {\n",
       "        text-align: right;\n",
       "    }\n",
       "</style>\n",
       "<table border=\"1\" class=\"dataframe\">\n",
       "  <thead>\n",
       "    <tr style=\"text-align: right;\">\n",
       "      <th></th>\n",
       "      <th>Mas Vnr Type</th>\n",
       "      <th>Mas Vnr Area</th>\n",
       "    </tr>\n",
       "  </thead>\n",
       "  <tbody>\n",
       "    <tr>\n",
       "      <th>765</th>\n",
       "      <td>None</td>\n",
       "      <td>1.0</td>\n",
       "    </tr>\n",
       "    <tr>\n",
       "      <th>810</th>\n",
       "      <td>None</td>\n",
       "      <td>288.0</td>\n",
       "    </tr>\n",
       "    <tr>\n",
       "      <th>1148</th>\n",
       "      <td>None</td>\n",
       "      <td>1.0</td>\n",
       "    </tr>\n",
       "    <tr>\n",
       "      <th>1684</th>\n",
       "      <td>None</td>\n",
       "      <td>1.0</td>\n",
       "    </tr>\n",
       "    <tr>\n",
       "      <th>1832</th>\n",
       "      <td>None</td>\n",
       "      <td>344.0</td>\n",
       "    </tr>\n",
       "  </tbody>\n",
       "</table>\n",
       "</div>"
      ],
      "text/plain": [
       "     Mas Vnr Type  Mas Vnr Area\n",
       "765          None           1.0\n",
       "810          None         288.0\n",
       "1148         None           1.0\n",
       "1684         None           1.0\n",
       "1832         None         344.0"
      ]
     },
     "execution_count": 43,
     "metadata": {},
     "output_type": "execute_result"
    }
   ],
   "source": [
    "train[['Mas Vnr Type','Mas Vnr Area']][train['Mas Vnr Area'] > 0][train['Mas Vnr Type'] == 'None']"
   ]
  },
  {
   "cell_type": "code",
   "execution_count": 44,
   "metadata": {},
   "outputs": [],
   "source": [
    "train['Mas Vnr Area'][train['Mas Vnr Type'] == 'None'] = 0"
   ]
  },
  {
   "cell_type": "markdown",
   "metadata": {},
   "source": [
    "### Filling empty Electrical values with Standard Circuit Breakers, the most common electrical value (mode)."
   ]
  },
  {
   "cell_type": "code",
   "execution_count": 45,
   "metadata": {},
   "outputs": [],
   "source": [
    "test['Electrical'].fillna('SBrkr',inplace=True)"
   ]
  },
  {
   "cell_type": "markdown",
   "metadata": {},
   "source": [
    "### Final check for missing values, the only NaN values should be 114 entries for \"Garage Yr Blt\" and \"Garage Age\". The Test Data Frame should have 45 NaN values.\n",
    "These can be used to make a \"Has Garage\" Column later on"
   ]
  },
  {
   "cell_type": "code",
   "execution_count": 46,
   "metadata": {},
   "outputs": [
    {
     "name": "stdout",
     "output_type": "stream",
     "text": [
      "Garage Yr Blt: 114\n",
      "Garage Age: 114\n"
     ]
    }
   ],
   "source": [
    "display_null(train)"
   ]
  },
  {
   "cell_type": "code",
   "execution_count": 47,
   "metadata": {},
   "outputs": [
    {
     "name": "stdout",
     "output_type": "stream",
     "text": [
      "Garage Yr Blt: 45\n",
      "Garage Age: 45\n"
     ]
    }
   ],
   "source": [
    "display_null(test)"
   ]
  },
  {
   "cell_type": "markdown",
   "metadata": {},
   "source": [
    "# Replacing score columns with numberical values"
   ]
  },
  {
   "cell_type": "code",
   "execution_count": 48,
   "metadata": {},
   "outputs": [
    {
     "data": {
      "text/plain": [
       "TA    1245\n",
       "Gd     695\n",
       "Ex      79\n",
       "Fa      26\n",
       "Name: Exter Qual, dtype: int64"
      ]
     },
     "execution_count": 48,
     "metadata": {},
     "output_type": "execute_result"
    }
   ],
   "source": [
    "#columns that need scoring\n",
    "#round(train['SalePrice'].groupby(train['Neighborhood']).mean(),2).sort_values(ascending=True)\n",
    "train['Exter Qual'].value_counts()"
   ]
  },
  {
   "cell_type": "code",
   "execution_count": 49,
   "metadata": {},
   "outputs": [],
   "source": [
    "#Score Dictionary\n",
    "exterior_scores = {'Po':1,'Fa':2,'TA':3,'Gd':4,'Ex':5}\n",
    "#Exterior Quality\n",
    "train['Exter Qual'] = train['Exter Qual'].map(exterior_scores).astype(int)\n",
    "test['Exter Qual'] = test['Exter Qual'].map(exterior_scores).astype(int)\n",
    "#Exterior Condition\n",
    "train['Exter Cond'] = train['Exter Cond'].map(exterior_scores).astype(int)\n",
    "test['Exter Cond'] = test['Exter Cond'].map(exterior_scores).astype(int)"
   ]
  },
  {
   "cell_type": "code",
   "execution_count": 50,
   "metadata": {},
   "outputs": [],
   "source": [
    "#Score Dictionary\n",
    "basement_scores = {'NA':0,'Po':1,'Fa':2,'TA':3,'Gd':4,'Ex':5}\n",
    "#Basement Quality\n",
    "train['Bsmt Qual'] = train['Bsmt Qual'].map(basement_scores).astype(int)\n",
    "test['Bsmt Qual'] = test['Bsmt Qual'].map(basement_scores).astype(int)\n",
    "#Basement Condition\n",
    "train['Bsmt Cond'] = train['Bsmt Cond'].map(basement_scores).astype(int)\n",
    "test['Bsmt Cond'] = test['Bsmt Cond'].map(basement_scores).astype(int)"
   ]
  },
  {
   "cell_type": "code",
   "execution_count": 51,
   "metadata": {},
   "outputs": [],
   "source": [
    "#Score Dictionary\n",
    "exposure_scores = {'NA':0,'No':1,'Mn':2,'Av':3,'Gd':4}\n",
    "#Basement Exposure\n",
    "train['Bsmt Exposure'] = train['Bsmt Exposure'].map(exposure_scores).astype(int)\n",
    "test['Bsmt Exposure'] = test['Bsmt Exposure'].map(exposure_scores).astype(int)"
   ]
  },
  {
   "cell_type": "code",
   "execution_count": 52,
   "metadata": {},
   "outputs": [],
   "source": [
    "#Score Dictionary\n",
    "finish_scores = {'NA':0,'Unf':1,'LwQ':2,'BLQ':3,'Rec':4,'ALQ':5,'GLQ':6}\n",
    "#Basement Finish Type 1\n",
    "train['BsmtFin Type 1'] = train['BsmtFin Type 1'].map(finish_scores).astype(int)\n",
    "test['BsmtFin Type 1'] = test['BsmtFin Type 1'].map(finish_scores).astype(int)\n",
    "#Basement Finish Type 2\n",
    "train['BsmtFin Type 2'] = train['BsmtFin Type 2'].map(finish_scores).astype(int)\n",
    "test['BsmtFin Type 2'] = test['BsmtFin Type 2'].map(finish_scores).astype(int)"
   ]
  },
  {
   "cell_type": "code",
   "execution_count": 53,
   "metadata": {},
   "outputs": [],
   "source": [
    "#Score Dictionary\n",
    "heating_scores = {'Po':1,'Fa':2,'TA':3,'Gd':4,'Ex':5}\n",
    "#Heating Quality/Condition\n",
    "train['Heating QC'] = train['Heating QC'].map(heating_scores).astype(int)\n",
    "test['Heating QC'] = test['Heating QC'].map(heating_scores).astype(int)"
   ]
  },
  {
   "cell_type": "code",
   "execution_count": 54,
   "metadata": {},
   "outputs": [],
   "source": [
    "#Has Central Air Conditioning\n",
    "yes_no = {'Y':1,'N':0}\n",
    "#Center Air Conditioning\n",
    "train['Central Air'] = train['Central Air'].map(yes_no).astype(int)\n",
    "test['Central Air'] = test['Central Air'].map(yes_no).astype(int)"
   ]
  },
  {
   "cell_type": "code",
   "execution_count": 55,
   "metadata": {},
   "outputs": [],
   "source": [
    "#Score Dictionary\n",
    "kitchen_scores = {'Po':1,'Fa':2,'TA':3,'Gd':4,'Ex':5}\n",
    "#Kitchen Quality\n",
    "train['Kitchen Qual'] = train['Kitchen Qual'].map(kitchen_scores).astype(int)\n",
    "test['Kitchen Qual'] = test['Kitchen Qual'].map(kitchen_scores).astype(int)"
   ]
  },
  {
   "cell_type": "code",
   "execution_count": 56,
   "metadata": {},
   "outputs": [],
   "source": [
    "#Score Dictionary\n",
    "fireplace_scores = {'NA':0,'Po':1,'Fa':2,'TA':3,'Gd':4,'Ex':5}\n",
    "#Fireplace Quality\n",
    "train['Fireplace Qu'] = train['Fireplace Qu'].map(fireplace_scores).astype(int)\n",
    "test['Fireplace Qu'] = test['Fireplace Qu'].map(fireplace_scores).astype(int)"
   ]
  },
  {
   "cell_type": "code",
   "execution_count": 57,
   "metadata": {},
   "outputs": [],
   "source": [
    "#Score Dictionary\n",
    "garage_scores = {'NA':0,'Po':1,'Fa':2,'TA':3,'Gd':4,'Ex':5}\n",
    "#Basement Quality\n",
    "train['Garage Qual'] = train['Garage Qual'].map(basement_scores).astype(int)\n",
    "test['Garage Qual'] = test['Garage Qual'].map(basement_scores).astype(int)\n",
    "#Basement Condition\n",
    "train['Garage Cond'] = train['Garage Cond'].map(garage_scores).astype(int)\n",
    "test['Garage Cond'] = test['Garage Cond'].map(garage_scores).astype(int)"
   ]
  },
  {
   "cell_type": "markdown",
   "metadata": {},
   "source": [
    "## Replacing all 'NA' values with 'empty' so that pandas.to_csv() doesn't interpret them as null values and delete them when writing new files"
   ]
  },
  {
   "cell_type": "code",
   "execution_count": 58,
   "metadata": {},
   "outputs": [],
   "source": [
    "train.replace('NA','not_app',inplace=True)\n",
    "test.replace('NA','not_app',inplace=True)"
   ]
  },
  {
   "cell_type": "code",
   "execution_count": 59,
   "metadata": {},
   "outputs": [],
   "source": [
    "train.to_csv('../datasets/train_cleaned.csv')\n",
    "test.to_csv('../datasets/test_cleaned.csv')"
   ]
  },
  {
   "cell_type": "code",
   "execution_count": 60,
   "metadata": {},
   "outputs": [],
   "source": [
    "train2 = pd.read_csv(\"../datasets/train_cleaned.csv\")\n",
    "test2 = pd.read_csv(\"../datasets/test_cleaned.csv\")"
   ]
  },
  {
   "cell_type": "code",
   "execution_count": 61,
   "metadata": {},
   "outputs": [
    {
     "name": "stdout",
     "output_type": "stream",
     "text": [
      "Garage Yr Blt: 114\n",
      "Garage Age: 114\n"
     ]
    }
   ],
   "source": [
    "display_null(train)"
   ]
  },
  {
   "cell_type": "code",
   "execution_count": 62,
   "metadata": {},
   "outputs": [
    {
     "name": "stdout",
     "output_type": "stream",
     "text": [
      "Garage Yr Blt: 114\n",
      "Garage Age: 114\n"
     ]
    }
   ],
   "source": [
    "display_null(train2)"
   ]
  },
  {
   "cell_type": "code",
   "execution_count": null,
   "metadata": {},
   "outputs": [],
   "source": []
  }
 ],
 "metadata": {
  "kernelspec": {
   "display_name": "Python 3",
   "language": "python",
   "name": "python3"
  },
  "language_info": {
   "codemirror_mode": {
    "name": "ipython",
    "version": 3
   },
   "file_extension": ".py",
   "mimetype": "text/x-python",
   "name": "python",
   "nbconvert_exporter": "python",
   "pygments_lexer": "ipython3",
   "version": "3.7.4"
  }
 },
 "nbformat": 4,
 "nbformat_minor": 4
}
